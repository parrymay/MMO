{
 "cells": [
  {
   "cell_type": "code",
   "execution_count": 24,
   "id": "ea66e6e9",
   "metadata": {},
   "outputs": [],
   "source": [
    "import pandas as pd\n",
    "from sklearn.feature_extraction.text import CountVectorizer, TfidfVectorizer\n",
    "from sklearn.metrics.pairwise import cosine_similarity, euclidean_distances, manhattan_distances"
   ]
  },
  {
   "cell_type": "markdown",
   "id": "28d08311",
   "metadata": {},
   "source": [
    "Для создания рекомендательной модели используем набор данных для рекомендательной системы парфюма, содержащий информацию о названии, изготовителе, составе запаха, url-ссылку на изображение упаковки, а также текстовое описание, на основе которого, мы и будем составлять соотвествующие рекомендации:"
   ]
  },
  {
   "cell_type": "markdown",
   "id": "7949f94a",
   "metadata": {},
   "source": [
    "Загрузим датасет:"
   ]
  },
  {
   "cell_type": "code",
   "execution_count": 6,
   "id": "e5a27114",
   "metadata": {},
   "outputs": [
    {
     "data": {
      "text/html": [
       "<div>\n",
       "<style scoped>\n",
       "    .dataframe tbody tr th:only-of-type {\n",
       "        vertical-align: middle;\n",
       "    }\n",
       "\n",
       "    .dataframe tbody tr th {\n",
       "        vertical-align: top;\n",
       "    }\n",
       "\n",
       "    .dataframe thead th {\n",
       "        text-align: right;\n",
       "    }\n",
       "</style>\n",
       "<table border=\"1\" class=\"dataframe\">\n",
       "  <thead>\n",
       "    <tr style=\"text-align: right;\">\n",
       "      <th></th>\n",
       "      <th>Name</th>\n",
       "      <th>Brand</th>\n",
       "      <th>Description</th>\n",
       "      <th>Notes</th>\n",
       "      <th>Image URL</th>\n",
       "    </tr>\n",
       "  </thead>\n",
       "  <tbody>\n",
       "    <tr>\n",
       "      <th>0</th>\n",
       "      <td>Tihota Eau de Parfum</td>\n",
       "      <td>Indult</td>\n",
       "      <td>Rapa Nui for sugar, Tihota is, quite simply, ...</td>\n",
       "      <td>Vanilla bean, musks</td>\n",
       "      <td>https://static.luckyscent.com/images/products/...</td>\n",
       "    </tr>\n",
       "    <tr>\n",
       "      <th>1</th>\n",
       "      <td>Sola Parfum</td>\n",
       "      <td>Di Ser</td>\n",
       "      <td>A tribute to the expanse of space extending f...</td>\n",
       "      <td>Lavender, Yuzu, Lemongrass, Magnolia, Geraniu...</td>\n",
       "      <td>https://static.luckyscent.com/images/products/...</td>\n",
       "    </tr>\n",
       "    <tr>\n",
       "      <th>2</th>\n",
       "      <td>Kagiroi Parfum</td>\n",
       "      <td>Di Ser</td>\n",
       "      <td>An aromatic ode to the ancient beauty of Japa...</td>\n",
       "      <td>Green yuzu, green shikuwasa, sansho seed, cor...</td>\n",
       "      <td>https://static.luckyscent.com/images/products/...</td>\n",
       "    </tr>\n",
       "    <tr>\n",
       "      <th>3</th>\n",
       "      <td>Velvet Fantasy Eau de Parfum</td>\n",
       "      <td>Montale</td>\n",
       "      <td>Velvet Fantasy is a solar fragrance where cit...</td>\n",
       "      <td>tangerine,  pink pepper,  black coffee,  leat...</td>\n",
       "      <td>https://static.luckyscent.com/images/products/...</td>\n",
       "    </tr>\n",
       "    <tr>\n",
       "      <th>4</th>\n",
       "      <td>A Blvd. Called Sunset Eau de Parfum</td>\n",
       "      <td>A Lab on Fire</td>\n",
       "      <td>There's no way A Lab On Fire could relocate t...</td>\n",
       "      <td>Bergamot, almond, violet, jasmine, leather, s...</td>\n",
       "      <td>https://static.luckyscent.com/images/products/...</td>\n",
       "    </tr>\n",
       "  </tbody>\n",
       "</table>\n",
       "</div>"
      ],
      "text/plain": [
       "                                  Name          Brand  \\\n",
       "0                 Tihota Eau de Parfum         Indult   \n",
       "1                          Sola Parfum         Di Ser   \n",
       "2                       Kagiroi Parfum         Di Ser   \n",
       "3         Velvet Fantasy Eau de Parfum        Montale   \n",
       "4  A Blvd. Called Sunset Eau de Parfum  A Lab on Fire   \n",
       "\n",
       "                                         Description  \\\n",
       "0   Rapa Nui for sugar, Tihota is, quite simply, ...   \n",
       "1   A tribute to the expanse of space extending f...   \n",
       "2   An aromatic ode to the ancient beauty of Japa...   \n",
       "3   Velvet Fantasy is a solar fragrance where cit...   \n",
       "4   There's no way A Lab On Fire could relocate t...   \n",
       "\n",
       "                                               Notes  \\\n",
       "0                                Vanilla bean, musks   \n",
       "1   Lavender, Yuzu, Lemongrass, Magnolia, Geraniu...   \n",
       "2   Green yuzu, green shikuwasa, sansho seed, cor...   \n",
       "3   tangerine,  pink pepper,  black coffee,  leat...   \n",
       "4   Bergamot, almond, violet, jasmine, leather, s...   \n",
       "\n",
       "                                           Image URL  \n",
       "0  https://static.luckyscent.com/images/products/...  \n",
       "1  https://static.luckyscent.com/images/products/...  \n",
       "2  https://static.luckyscent.com/images/products/...  \n",
       "3  https://static.luckyscent.com/images/products/...  \n",
       "4  https://static.luckyscent.com/images/products/...  "
      ]
     },
     "execution_count": 6,
     "metadata": {},
     "output_type": "execute_result"
    }
   ],
   "source": [
    "df_perf_all = pd.read_csv('data/perfume.csv', sep=\",\", encoding = 'ansi')\n",
    "df_perf_all.head()\n"
   ]
  },
  {
   "cell_type": "code",
   "execution_count": 7,
   "id": "639a8f37",
   "metadata": {},
   "outputs": [
    {
     "data": {
      "text/plain": [
       "(2191, 5)"
      ]
     },
     "execution_count": 7,
     "metadata": {},
     "output_type": "execute_result"
    }
   ],
   "source": [
    "df_perf_all.shape"
   ]
  },
  {
   "cell_type": "markdown",
   "id": "e22c70bb",
   "metadata": {},
   "source": [
    "Убедимся, что в нашем рабочем датафрейме не будет записей с отсутсвующим текстовым описанием: "
   ]
  },
  {
   "cell_type": "code",
   "execution_count": 8,
   "id": "5bc12b22",
   "metadata": {},
   "outputs": [],
   "source": [
    "df_perf_with_description = df_perf_all[df_perf_all['Description'].notnull()]\n",
    "df_perf_with_description = df_perf_with_description[~df_perf_with_description['Description'].str.isspace()]"
   ]
  },
  {
   "cell_type": "code",
   "execution_count": 9,
   "id": "053188f4",
   "metadata": {},
   "outputs": [
    {
     "data": {
      "text/plain": [
       "array(['Tihota Eau de Parfum', 'Sola Parfum', 'Kagiroi Parfum',\n",
       "       'Velvet Fantasy Eau de Parfum',\n",
       "       'A Blvd. Called Sunset Eau de Parfum',\n",
       "       'Freckled and Beautiful Eau de Parfum'], dtype=object)"
      ]
     },
     "execution_count": 9,
     "metadata": {},
     "output_type": "execute_result"
    }
   ],
   "source": [
    "name = df_perf_with_description['Name'].values\n",
    "name[0:6]"
   ]
  },
  {
   "cell_type": "code",
   "execution_count": 11,
   "id": "a9840d60",
   "metadata": {},
   "outputs": [
    {
     "data": {
      "text/plain": [
       "array([' Vanilla bean, musks',\n",
       "       ' Lavender, Yuzu, Lemongrass, Magnolia, Geranium, Jasmine, Frankincense, Myrrh',\n",
       "       ' Green yuzu, green shikuwasa, sansho seed, coriander, ylang-ylang, shiso, rosewood, vetiver, hinoki, cypriol, patchouli, agarwood',\n",
       "       ' tangerine,  pink pepper,  black coffee,  leather,  violet,  jasmine,  lily of the valley,  heliotrope powder,  vanilla,  amber, sandalwood,  toffee,  musk,  oakmoss',\n",
       "       ' Bergamot, almond, violet, jasmine, leather, sandalwood, vanilla, tonka'],\n",
       "      dtype=object)"
      ]
     },
     "execution_count": 11,
     "metadata": {},
     "output_type": "execute_result"
    }
   ],
   "source": [
    "notes = df_perf_with_description['Notes'].values\n",
    "notes[0:5]"
   ]
  },
  {
   "cell_type": "code",
   "execution_count": 13,
   "id": "cfbfe830",
   "metadata": {},
   "outputs": [
    {
     "data": {
      "text/plain": [
       "array([\" Rapa Nui for sugar, Tihota is, quite simply, The One. The One that will call to you every moment you're not smelling it, The One that you've only had hints of in other vanilla perfumes, The One that lasts and lasts, The One that has perfectly captured the essence of the pure nature of fresh vanilla beans and has harnessed it beyond your wildest dreams. It inspires obsessive devotion with its fragrance of smooth, vanilla bean pods dipped in honeyed water and left to steep. The result is the pure magic, an unbridled vanilla, sweet, raw and achingly desirable. Of course, Tihota isn't the first perfume to focus on the dark sweetness of vanilla... perfumery is filled with vanillas, but this smells like the dream of a master perfumer who was obsessed with vanilla and was finally given free rein to worship the note with no apologies. It is, without a sliver of a doubt, the finest pure vanilla we've ever had the honor of carrying, and it's so beautiful it pains us to put the bottle down.\",\n",
       "       ' A tribute to the expanse of space extending from the sky to the flower and fruit laden earth below, Sola, the newest offering from DI SER and perfumer Yasuyuki Shinohara, showcases the natural flora of Hokkaido, Japan with locally sourced and sustainably harvested ingredients from DI SERs own gardens. Starting with aromatic notes of freshly harvested Hokkaido lavender, lemongrass and yuzu, the uplifting scent moves to a floral middle of Japanese rose, magnolia, geranium and jasmine before settling on a spiritual bed of frankincense and myrrh. The spiritual and meditative scent evokes an imagery of a peaceful universe in complete harmony with the bounties of nature and of peace and contentment with its generous offerings.',\n",
       "       ' An aromatic ode to the ancient beauty of Japan, Kagiroi represents the changes in the shade of the dawn sky over the mountains of Hokkaido, Japan. As the dawn sky transitions through shades of purple, yellow, orange and red, this scent that showcases many ingredients used for the first time in perfumery transitions from an aromatic slightly spicy top to an earthy and woody base, representing the ebb and flow in the stages of life. The perfume opens with notes of Japanese herbs and citruses, moves to a slightly floral spicy middle and settles into a deep woody base accentuated by the use of the Hinoki cedar that dot the mountain landscapes. A deeply personal and spiritual scent, Kagiroi is a scent of shifting aromatic complexities representing transitions in the journey of life.Parfum Edition: We are honored and delighted to offer the rare and precious Parfum edition of Kagiroi, which adds to the composition a precious specimen of Japanese agarwood, which adds rich, spiritual dimensionality and a truly impressive and long-lasting drydown to this already complex and wonderful scent.'],\n",
       "      dtype=object)"
      ]
     },
     "execution_count": 13,
     "metadata": {},
     "output_type": "execute_result"
    }
   ],
   "source": [
    "descr = df_perf_with_description['Description'].values\n",
    "descr[0:3]"
   ]
  },
  {
   "cell_type": "markdown",
   "id": "fa8c84dc",
   "metadata": {},
   "source": [
    "Векторизуем описания с помощью Tf-Idf Vectorizer"
   ]
  },
  {
   "cell_type": "code",
   "execution_count": 16,
   "id": "93c4e00a",
   "metadata": {},
   "outputs": [
    {
     "data": {
      "text/plain": [
       "<2191x18753 sparse matrix of type '<class 'numpy.float64'>'\n",
       "\twith 216102 stored elements in Compressed Sparse Row format>"
      ]
     },
     "execution_count": 16,
     "metadata": {},
     "output_type": "execute_result"
    }
   ],
   "source": [
    "tfidfv = TfidfVectorizer()\n",
    "descr_matrix = tfidfv.fit_transform(descr)\n",
    "descr_matrix"
   ]
  },
  {
   "cell_type": "markdown",
   "id": "731375b1",
   "metadata": {},
   "source": [
    "И с помощью CountVectorizer:"
   ]
  },
  {
   "cell_type": "code",
   "execution_count": 42,
   "id": "b29ec11e",
   "metadata": {},
   "outputs": [
    {
     "data": {
      "text/plain": [
       "<2191x18753 sparse matrix of type '<class 'numpy.int64'>'\n",
       "\twith 216102 stored elements in Compressed Sparse Row format>"
      ]
     },
     "execution_count": 42,
     "metadata": {},
     "output_type": "execute_result"
    }
   ],
   "source": [
    "countv = CountVectorizer()\n",
    "descr_matrix_co = countv.fit_transform(descr)\n",
    "descr_matrix_co"
   ]
  },
  {
   "cell_type": "code",
   "execution_count": 30,
   "id": "a847c044",
   "metadata": {},
   "outputs": [],
   "source": [
    "class SimpleKNNRecommender:\n",
    "    \n",
    "    def __init__(self, X_matrix, X_names, X_notes, X_descr):\n",
    "        \"\"\"\n",
    "        Входные параметры:\n",
    "        X_matrix - обучающая выборка (матрица объект-признак)\n",
    "        X_ids - массив идентификаторов объектов\n",
    "        X_title - массив названий объектов\n",
    "        X_overview - массив описаний объектов\n",
    "        \"\"\"\n",
    "        #Сохраняем параметры в переменных объекта\n",
    "        self._X_matrix = X_matrix\n",
    "        self.df = pd.DataFrame(\n",
    "            {'Perfume Name': pd.Series(X_names, dtype='str'),\n",
    "            'Notes': pd.Series(X_notes, dtype='str'),\n",
    "            'Description': pd.Series(X_descr, dtype='str'),\n",
    "            'Dist': pd.Series([], dtype='float')})\n",
    "            \n",
    "            \n",
    "    def recommend_for_single_object(self, K: int, \\\n",
    "                X_matrix_object, cos_flag = True, manh_flag = False):\n",
    "        \"\"\"\n",
    "        Метод формирования рекомендаций для одного объекта.\n",
    "        Входные параметры:\n",
    "        K - количество рекомендуемых соседей \n",
    "        X_matrix_object - строка матрицы объект-признак, соответствующая объекту\n",
    "        cos_flag - флаг вычисления косинусного расстояния\n",
    "        manh_flag - флаг вычисления манхэттэнского расстояния\n",
    "        Возвращаемое значение: K найденных соседей\n",
    "        \"\"\"\n",
    "        \n",
    "        scale = 1000000\n",
    "        # Вычисляем косинусную близость\n",
    "        if cos_flag:\n",
    "            dist = cosine_similarity(self._X_matrix, X_matrix_object)\n",
    "            self.df['Dist'] = dist * scale\n",
    "            res = self.df.sort_values(by='Dist', ascending=False)\n",
    "            # Не учитываем рекомендации с единичным расстоянием,\n",
    "            # так как это искомый объект\n",
    "            res = res[res['Dist'] < scale]\n",
    "        \n",
    "        else:\n",
    "            if manh_flag:\n",
    "                dist = manhattan_distances(self._X_matrix, X_matrix_object)\n",
    "            else:\n",
    "                dist = euclidean_distances(self._X_matrix, X_matrix_object)\n",
    "            self.df['Dist'] = dist * scale\n",
    "            res = self.df.sort_values(by='Dist', ascending=True)\n",
    "            # Не учитываем рекомендации с единичным расстоянием,\n",
    "            # так как это искомый объект\n",
    "            res = res[res['Dist'] > 0.0]            \n",
    "        \n",
    "        # Оставляем К первых рекомендаций\n",
    "        res = res.head(K)\n",
    "        return res"
   ]
  },
  {
   "cell_type": "markdown",
   "id": "cbb70a35",
   "metadata": {},
   "source": [
    "Выберем тестовый образец, на основе которого мы будем давать рекомендации:"
   ]
  },
  {
   "cell_type": "code",
   "execution_count": 35,
   "id": "3ea901bc",
   "metadata": {},
   "outputs": [
    {
     "data": {
      "text/plain": [
       "'California Snow Eau de Parfum'"
      ]
     },
     "execution_count": 35,
     "metadata": {},
     "output_type": "execute_result"
    }
   ],
   "source": [
    "test_perfume_name = 1000\n",
    "name[test_perfume_name]"
   ]
  },
  {
   "cell_type": "markdown",
   "id": "674347a9",
   "metadata": {},
   "source": [
    "Зададим его матрицу: "
   ]
  },
  {
   "cell_type": "code",
   "execution_count": 37,
   "id": "c1688ec3",
   "metadata": {},
   "outputs": [
    {
     "data": {
      "text/plain": [
       "<1x18753 sparse matrix of type '<class 'numpy.float64'>'\n",
       "\twith 146 stored elements in Compressed Sparse Row format>"
      ]
     },
     "execution_count": 37,
     "metadata": {},
     "output_type": "execute_result"
    }
   ],
   "source": [
    "test_perfume_matrix = descr_matrix[test_perfume_name]\n",
    "test_perfume_matrix"
   ]
  },
  {
   "cell_type": "code",
   "execution_count": 39,
   "id": "1451af04",
   "metadata": {},
   "outputs": [],
   "source": [
    "skr1 = SimpleKNNRecommender(descr_matrix, name, notes, descr)"
   ]
  },
  {
   "cell_type": "code",
   "execution_count": 40,
   "id": "4c847d06",
   "metadata": {},
   "outputs": [
    {
     "data": {
      "text/plain": [
       "Name                               California Snow Eau de Parfum\n",
       "Brand                                              A Lab on Fire\n",
       "Description     California Snow crackles with the electricity...\n",
       "Notes           Sage, tea, chamomile, coumarin, narcissus, ro...\n",
       "Image URL      https://static.luckyscent.com/images/products/...\n",
       "Name: 1000, dtype: object"
      ]
     },
     "execution_count": 40,
     "metadata": {},
     "output_type": "execute_result"
    }
   ],
   "source": [
    "test = df_perf_with_description.iloc[test_perfume_name]\n",
    "test"
   ]
  },
  {
   "cell_type": "markdown",
   "id": "88bc21d5",
   "metadata": {},
   "source": [
    "Делаем рекомендацию на основании описания векторизованного Tf-Idf и косинусного  расстояния:"
   ]
  },
  {
   "cell_type": "code",
   "execution_count": 41,
   "id": "deed3ac7",
   "metadata": {},
   "outputs": [
    {
     "data": {
      "text/html": [
       "<div>\n",
       "<style scoped>\n",
       "    .dataframe tbody tr th:only-of-type {\n",
       "        vertical-align: middle;\n",
       "    }\n",
       "\n",
       "    .dataframe tbody tr th {\n",
       "        vertical-align: top;\n",
       "    }\n",
       "\n",
       "    .dataframe thead th {\n",
       "        text-align: right;\n",
       "    }\n",
       "</style>\n",
       "<table border=\"1\" class=\"dataframe\">\n",
       "  <thead>\n",
       "    <tr style=\"text-align: right;\">\n",
       "      <th></th>\n",
       "      <th>Perfume Name</th>\n",
       "      <th>Notes</th>\n",
       "      <th>Description</th>\n",
       "      <th>Dist</th>\n",
       "    </tr>\n",
       "  </thead>\n",
       "  <tbody>\n",
       "    <tr>\n",
       "      <th>1000</th>\n",
       "      <td>California Snow Eau de Parfum</td>\n",
       "      <td>Sage, tea, chamomile, coumarin, narcissus, ro...</td>\n",
       "      <td>California Snow crackles with the electricity...</td>\n",
       "      <td>1000000.000000</td>\n",
       "    </tr>\n",
       "    <tr>\n",
       "      <th>1900</th>\n",
       "      <td>1 Parfum Extrait</td>\n",
       "      <td>Fresh tangerine blossom, cassis, neroli bigar...</td>\n",
       "      <td>One of the world's most exclusive fragrances,...</td>\n",
       "      <td>201793.045093</td>\n",
       "    </tr>\n",
       "    <tr>\n",
       "      <th>1895</th>\n",
       "      <td>Arso Eau de Parfum</td>\n",
       "      <td>Leather, incense, pine resin, cedar leaves</td>\n",
       "      <td>The sharp, evocative scent of wood smoke  - t...</td>\n",
       "      <td>201572.053201</td>\n",
       "    </tr>\n",
       "    <tr>\n",
       "      <th>1921</th>\n",
       "      <td>De Bachmakov Eau de Parfum</td>\n",
       "      <td>Cedar wood, bergamot, shiso leaves, nutmeg, c...</td>\n",
       "      <td>In a tribute to his Russian ancestry and to c...</td>\n",
       "      <td>183499.803113</td>\n",
       "    </tr>\n",
       "    <tr>\n",
       "      <th>1220</th>\n",
       "      <td>Clementine California Cologne Absolue</td>\n",
       "      <td>Clementine, mandarin, juniper berries, star a...</td>\n",
       "      <td>In terms of sheer, natural joy, how many sens...</td>\n",
       "      <td>181620.621872</td>\n",
       "    </tr>\n",
       "    <tr>\n",
       "      <th>845</th>\n",
       "      <td>Woody Mood Eau de Parfum</td>\n",
       "      <td>bergamot, ginger, clary sage, saffron, sequoi...</td>\n",
       "      <td>With Woody Mood, perfumer Betrand Duchaufour ...</td>\n",
       "      <td>174702.171909</td>\n",
       "    </tr>\n",
       "    <tr>\n",
       "      <th>1496</th>\n",
       "      <td>Gypsy Water Hair Perfume</td>\n",
       "      <td>Bergamot, lemon, pepper, juniper berries, inc...</td>\n",
       "      <td>BYREDO presents a hair perfume collection tha...</td>\n",
       "      <td>174182.876741</td>\n",
       "    </tr>\n",
       "    <tr>\n",
       "      <th>1640</th>\n",
       "      <td>Gypsy Water Eau de Parfum</td>\n",
       "      <td>Bergamot, lemon, pepper, juniper berries, inc...</td>\n",
       "      <td>This entrancing shape-shifter is one of the m...</td>\n",
       "      <td>174153.486327</td>\n",
       "    </tr>\n",
       "    <tr>\n",
       "      <th>469</th>\n",
       "      <td>Oliver Eau de Parfum</td>\n",
       "      <td>bitter orange, mojito, grapefruit, bergamot, ...</td>\n",
       "      <td>Oliver is an original take on the aromatic he...</td>\n",
       "      <td>172561.033154</td>\n",
       "    </tr>\n",
       "    <tr>\n",
       "      <th>1151</th>\n",
       "      <td>Sole di Positano Eau de Parfum</td>\n",
       "      <td>Calabrian bergamot, bitter orange, mandarin, ...</td>\n",
       "      <td>There is nothing like the thrill of a good ci...</td>\n",
       "      <td>171114.096042</td>\n",
       "    </tr>\n",
       "    <tr>\n",
       "      <th>1576</th>\n",
       "      <td>Russian Tea Eau de Parfum</td>\n",
       "      <td>Mint, black pepper, raspberry, black tea, mag...</td>\n",
       "      <td>Out there, the snow-covered Nevsky Prospekt, ...</td>\n",
       "      <td>170739.967660</td>\n",
       "    </tr>\n",
       "    <tr>\n",
       "      <th>1049</th>\n",
       "      <td>Sunny Side Up Eau de Parfum</td>\n",
       "      <td>Amyris, vanilla, sandalwood, iris butter, jas...</td>\n",
       "      <td>Leave it to iconoclast Juliette Has A Gun to ...</td>\n",
       "      <td>169980.941333</td>\n",
       "    </tr>\n",
       "    <tr>\n",
       "      <th>1635</th>\n",
       "      <td>Terralba Eau de Parfum</td>\n",
       "      <td>Clary Sage, Lemon, Green Tangerine, Myrtle, T...</td>\n",
       "      <td>In front of you, the sea. Behind, mediterrane...</td>\n",
       "      <td>168400.570028</td>\n",
       "    </tr>\n",
       "    <tr>\n",
       "      <th>1518</th>\n",
       "      <td>Mississippi Medicine Eau de Parfum</td>\n",
       "      <td>Red cedar, aldehydes, frankincense distillate...</td>\n",
       "      <td>Tribal pyres burning in the forests, with smo...</td>\n",
       "      <td>166695.197137</td>\n",
       "    </tr>\n",
       "    <tr>\n",
       "      <th>312</th>\n",
       "      <td>The Time Eau de Parfum</td>\n",
       "      <td>Bergamot, wormwood, chamomile, oolong tea, ir...</td>\n",
       "      <td>What a beautiful, refreshing tea scent! Fans ...</td>\n",
       "      <td>166510.753634</td>\n",
       "    </tr>\n",
       "  </tbody>\n",
       "</table>\n",
       "</div>"
      ],
      "text/plain": [
       "                               Perfume Name  \\\n",
       "1000          California Snow Eau de Parfum   \n",
       "1900                       1 Parfum Extrait   \n",
       "1895                     Arso Eau de Parfum   \n",
       "1921             De Bachmakov Eau de Parfum   \n",
       "1220  Clementine California Cologne Absolue   \n",
       "845                Woody Mood Eau de Parfum   \n",
       "1496               Gypsy Water Hair Perfume   \n",
       "1640              Gypsy Water Eau de Parfum   \n",
       "469                    Oliver Eau de Parfum   \n",
       "1151         Sole di Positano Eau de Parfum   \n",
       "1576              Russian Tea Eau de Parfum   \n",
       "1049            Sunny Side Up Eau de Parfum   \n",
       "1635                 Terralba Eau de Parfum   \n",
       "1518     Mississippi Medicine Eau de Parfum   \n",
       "312                  The Time Eau de Parfum   \n",
       "\n",
       "                                                  Notes  \\\n",
       "1000   Sage, tea, chamomile, coumarin, narcissus, ro...   \n",
       "1900   Fresh tangerine blossom, cassis, neroli bigar...   \n",
       "1895         Leather, incense, pine resin, cedar leaves   \n",
       "1921   Cedar wood, bergamot, shiso leaves, nutmeg, c...   \n",
       "1220   Clementine, mandarin, juniper berries, star a...   \n",
       "845    bergamot, ginger, clary sage, saffron, sequoi...   \n",
       "1496   Bergamot, lemon, pepper, juniper berries, inc...   \n",
       "1640   Bergamot, lemon, pepper, juniper berries, inc...   \n",
       "469    bitter orange, mojito, grapefruit, bergamot, ...   \n",
       "1151   Calabrian bergamot, bitter orange, mandarin, ...   \n",
       "1576   Mint, black pepper, raspberry, black tea, mag...   \n",
       "1049   Amyris, vanilla, sandalwood, iris butter, jas...   \n",
       "1635   Clary Sage, Lemon, Green Tangerine, Myrtle, T...   \n",
       "1518   Red cedar, aldehydes, frankincense distillate...   \n",
       "312    Bergamot, wormwood, chamomile, oolong tea, ir...   \n",
       "\n",
       "                                            Description            Dist  \n",
       "1000   California Snow crackles with the electricity...  1000000.000000  \n",
       "1900   One of the world's most exclusive fragrances,...   201793.045093  \n",
       "1895   The sharp, evocative scent of wood smoke  - t...   201572.053201  \n",
       "1921   In a tribute to his Russian ancestry and to c...   183499.803113  \n",
       "1220   In terms of sheer, natural joy, how many sens...   181620.621872  \n",
       "845    With Woody Mood, perfumer Betrand Duchaufour ...   174702.171909  \n",
       "1496   BYREDO presents a hair perfume collection tha...   174182.876741  \n",
       "1640   This entrancing shape-shifter is one of the m...   174153.486327  \n",
       "469    Oliver is an original take on the aromatic he...   172561.033154  \n",
       "1151   There is nothing like the thrill of a good ci...   171114.096042  \n",
       "1576   Out there, the snow-covered Nevsky Prospekt, ...   170739.967660  \n",
       "1049   Leave it to iconoclast Juliette Has A Gun to ...   169980.941333  \n",
       "1635   In front of you, the sea. Behind, mediterrane...   168400.570028  \n",
       "1518   Tribal pyres burning in the forests, with smo...   166695.197137  \n",
       "312    What a beautiful, refreshing tea scent! Fans ...   166510.753634  "
      ]
     },
     "execution_count": 41,
     "metadata": {},
     "output_type": "execute_result"
    }
   ],
   "source": [
    "rec1 = skr1.recommend_for_single_object(15, test_perfume_matrix)\n",
    "rec1"
   ]
  },
  {
   "cell_type": "code",
   "execution_count": 43,
   "id": "dbfbdcbc",
   "metadata": {},
   "outputs": [
    {
     "data": {
      "text/plain": [
       "<1x18753 sparse matrix of type '<class 'numpy.int64'>'\n",
       "\twith 146 stored elements in Compressed Sparse Row format>"
      ]
     },
     "execution_count": 43,
     "metadata": {},
     "output_type": "execute_result"
    }
   ],
   "source": [
    "test_perfume_matrix_co = descr_matrix_co[test_perfume_name]\n",
    "test_perfume_matrix_co"
   ]
  },
  {
   "cell_type": "code",
   "execution_count": 44,
   "id": "e15234a2",
   "metadata": {},
   "outputs": [],
   "source": [
    "skr2 = SimpleKNNRecommender(descr_matrix_co, name, notes, descr)"
   ]
  },
  {
   "cell_type": "markdown",
   "id": "1211d046",
   "metadata": {},
   "source": [
    "Делаем рекомендации по описаниям векторизованным CountVectorizer и на основе Евклидова расстояния:"
   ]
  },
  {
   "cell_type": "code",
   "execution_count": 46,
   "id": "8ac989cf",
   "metadata": {},
   "outputs": [
    {
     "data": {
      "text/html": [
       "<div>\n",
       "<style scoped>\n",
       "    .dataframe tbody tr th:only-of-type {\n",
       "        vertical-align: middle;\n",
       "    }\n",
       "\n",
       "    .dataframe tbody tr th {\n",
       "        vertical-align: top;\n",
       "    }\n",
       "\n",
       "    .dataframe thead th {\n",
       "        text-align: right;\n",
       "    }\n",
       "</style>\n",
       "<table border=\"1\" class=\"dataframe\">\n",
       "  <thead>\n",
       "    <tr style=\"text-align: right;\">\n",
       "      <th></th>\n",
       "      <th>Perfume Name</th>\n",
       "      <th>Notes</th>\n",
       "      <th>Description</th>\n",
       "      <th>Dist</th>\n",
       "    </tr>\n",
       "  </thead>\n",
       "  <tbody>\n",
       "    <tr>\n",
       "      <th>1895</th>\n",
       "      <td>Arso Eau de Parfum</td>\n",
       "      <td>Leather, incense, pine resin, cedar leaves</td>\n",
       "      <td>The sharp, evocative scent of wood smoke  - t...</td>\n",
       "      <td>1.846619e+07</td>\n",
       "    </tr>\n",
       "    <tr>\n",
       "      <th>182</th>\n",
       "      <td>L'Etre Aime - Homme Eau de Parfum</td>\n",
       "      <td>bergamot, lavender, ginger, basil, cardamom, ...</td>\n",
       "      <td>Yvon Mouchel, dedicated the 7th addition to t...</td>\n",
       "      <td>1.902630e+07</td>\n",
       "    </tr>\n",
       "    <tr>\n",
       "      <th>1664</th>\n",
       "      <td>Hinoki Eau de Toilette</td>\n",
       "      <td>Cypress, turpentine, camphor, cedar, thyme, p...</td>\n",
       "      <td>Hinoki takes its name from the hinoki cypress...</td>\n",
       "      <td>1.920937e+07</td>\n",
       "    </tr>\n",
       "    <tr>\n",
       "      <th>1437</th>\n",
       "      <td>Ambre Gris Eau de Parfum</td>\n",
       "      <td>Davana, rose, geranium, sandalwood, cedar, am...</td>\n",
       "      <td>Ambergris, the legendarily rare ingredient pr...</td>\n",
       "      <td>1.928730e+07</td>\n",
       "    </tr>\n",
       "    <tr>\n",
       "      <th>820</th>\n",
       "      <td>And The World Is Yours Extrait de Parfum</td>\n",
       "      <td>Neroli, cumin, orange blossom absolute, rose,...</td>\n",
       "      <td>Few photographs capture the sumptuousness of ...</td>\n",
       "      <td>1.931321e+07</td>\n",
       "    </tr>\n",
       "    <tr>\n",
       "      <th>1170</th>\n",
       "      <td>Brooklyn Eau de Parfum</td>\n",
       "      <td>Bergamot, squeezed lemon, orange juice, incen...</td>\n",
       "      <td>The beating creative heart of the East Coast,...</td>\n",
       "      <td>1.933908e+07</td>\n",
       "    </tr>\n",
       "    <tr>\n",
       "      <th>20</th>\n",
       "      <td>Gris Charnel Eau de Parfum</td>\n",
       "      <td>Fig, Black tea, Cardamom essence, Absolute of...</td>\n",
       "      <td>Quai Saint-Bernard, near the Jardin des Plant...</td>\n",
       "      <td>1.936492e+07</td>\n",
       "    </tr>\n",
       "    <tr>\n",
       "      <th>565</th>\n",
       "      <td>Oeilleres Parfum Extrait</td>\n",
       "      <td>Eucalyptus, broom, chamomile, lavender, cumin...</td>\n",
       "      <td>“I want to echo the flowers I photograph witho...</td>\n",
       "      <td>1.941649e+07</td>\n",
       "    </tr>\n",
       "    <tr>\n",
       "      <th>2071</th>\n",
       "      <td>Tubereuse Couture Eau de Parfum</td>\n",
       "      <td>kalamanzi oil, green jasmine shoots, ylang-yl...</td>\n",
       "      <td>Created in the spirit of High Fashion, Tubere...</td>\n",
       "      <td>1.944222e+07</td>\n",
       "    </tr>\n",
       "    <tr>\n",
       "      <th>609</th>\n",
       "      <td>Arancia di Sicilia Eau de Parfum</td>\n",
       "      <td>Blood orange (brown extraction &amp; sfuma torchi...</td>\n",
       "      <td>In perfumery the essential oil from bitter or...</td>\n",
       "      <td>1.944222e+07</td>\n",
       "    </tr>\n",
       "    <tr>\n",
       "      <th>349</th>\n",
       "      <td>L'Air du desert marocain Eau de Toilette ...</td>\n",
       "      <td>Coriander, Petitgrain (Bitter orange), Lemon,...</td>\n",
       "      <td>'Imagine finding peace in a room, lying on th...</td>\n",
       "      <td>1.949359e+07</td>\n",
       "    </tr>\n",
       "    <tr>\n",
       "      <th>1124</th>\n",
       "      <td>Rosa Greta Eau de Parfum</td>\n",
       "      <td>Lychee, white tea, rosebud, damascus rose inf...</td>\n",
       "      <td>A hidden paradise away from prying eyes - a p...</td>\n",
       "      <td>1.954482e+07</td>\n",
       "    </tr>\n",
       "    <tr>\n",
       "      <th>257</th>\n",
       "      <td>L'etre Aime - Femme Eau de Parfum</td>\n",
       "      <td>neroli, bergamot, nectarine, jasmine, lily, t...</td>\n",
       "      <td>At the heart of our lives is a perfume we wil...</td>\n",
       "      <td>1.957039e+07</td>\n",
       "    </tr>\n",
       "    <tr>\n",
       "      <th>242</th>\n",
       "      <td>Mohur Eau de Parfum</td>\n",
       "      <td>Cardamom, coriander, ambrette, carrot, black ...</td>\n",
       "      <td>The name refers to the most valuable gold coi...</td>\n",
       "      <td>1.957039e+07</td>\n",
       "    </tr>\n",
       "    <tr>\n",
       "      <th>1518</th>\n",
       "      <td>Mississippi Medicine Eau de Parfum</td>\n",
       "      <td>Red cedar, aldehydes, frankincense distillate...</td>\n",
       "      <td>Tribal pyres burning in the forests, with smo...</td>\n",
       "      <td>1.959592e+07</td>\n",
       "    </tr>\n",
       "  </tbody>\n",
       "</table>\n",
       "</div>"
      ],
      "text/plain": [
       "                                      Perfume Name  \\\n",
       "1895                            Arso Eau de Parfum   \n",
       "182              L'Etre Aime - Homme Eau de Parfum   \n",
       "1664                        Hinoki Eau de Toilette   \n",
       "1437                      Ambre Gris Eau de Parfum   \n",
       "820       And The World Is Yours Extrait de Parfum   \n",
       "1170                        Brooklyn Eau de Parfum   \n",
       "20                      Gris Charnel Eau de Parfum   \n",
       "565                       Oeilleres Parfum Extrait   \n",
       "2071               Tubereuse Couture Eau de Parfum   \n",
       "609               Arancia di Sicilia Eau de Parfum   \n",
       "349   L'Air du desert marocain Eau de Toilette ...   \n",
       "1124                      Rosa Greta Eau de Parfum   \n",
       "257              L'etre Aime - Femme Eau de Parfum   \n",
       "242                            Mohur Eau de Parfum   \n",
       "1518            Mississippi Medicine Eau de Parfum   \n",
       "\n",
       "                                                  Notes  \\\n",
       "1895         Leather, incense, pine resin, cedar leaves   \n",
       "182    bergamot, lavender, ginger, basil, cardamom, ...   \n",
       "1664   Cypress, turpentine, camphor, cedar, thyme, p...   \n",
       "1437   Davana, rose, geranium, sandalwood, cedar, am...   \n",
       "820    Neroli, cumin, orange blossom absolute, rose,...   \n",
       "1170   Bergamot, squeezed lemon, orange juice, incen...   \n",
       "20     Fig, Black tea, Cardamom essence, Absolute of...   \n",
       "565    Eucalyptus, broom, chamomile, lavender, cumin...   \n",
       "2071   kalamanzi oil, green jasmine shoots, ylang-yl...   \n",
       "609    Blood orange (brown extraction & sfuma torchi...   \n",
       "349    Coriander, Petitgrain (Bitter orange), Lemon,...   \n",
       "1124   Lychee, white tea, rosebud, damascus rose inf...   \n",
       "257    neroli, bergamot, nectarine, jasmine, lily, t...   \n",
       "242    Cardamom, coriander, ambrette, carrot, black ...   \n",
       "1518   Red cedar, aldehydes, frankincense distillate...   \n",
       "\n",
       "                                            Description          Dist  \n",
       "1895   The sharp, evocative scent of wood smoke  - t...  1.846619e+07  \n",
       "182    Yvon Mouchel, dedicated the 7th addition to t...  1.902630e+07  \n",
       "1664   Hinoki takes its name from the hinoki cypress...  1.920937e+07  \n",
       "1437   Ambergris, the legendarily rare ingredient pr...  1.928730e+07  \n",
       "820    Few photographs capture the sumptuousness of ...  1.931321e+07  \n",
       "1170   The beating creative heart of the East Coast,...  1.933908e+07  \n",
       "20     Quai Saint-Bernard, near the Jardin des Plant...  1.936492e+07  \n",
       "565   “I want to echo the flowers I photograph witho...  1.941649e+07  \n",
       "2071   Created in the spirit of High Fashion, Tubere...  1.944222e+07  \n",
       "609    In perfumery the essential oil from bitter or...  1.944222e+07  \n",
       "349    'Imagine finding peace in a room, lying on th...  1.949359e+07  \n",
       "1124   A hidden paradise away from prying eyes - a p...  1.954482e+07  \n",
       "257    At the heart of our lives is a perfume we wil...  1.957039e+07  \n",
       "242    The name refers to the most valuable gold coi...  1.957039e+07  \n",
       "1518   Tribal pyres burning in the forests, with smo...  1.959592e+07  "
      ]
     },
     "execution_count": 46,
     "metadata": {},
     "output_type": "execute_result"
    }
   ],
   "source": [
    "rec2 = skr2.recommend_for_single_object(15, test_perfume_matrix_co, cos_flag = False)\n",
    "rec2"
   ]
  },
  {
   "cell_type": "code",
   "execution_count": null,
   "id": "19b0dbb5",
   "metadata": {},
   "outputs": [],
   "source": []
  }
 ],
 "metadata": {
  "kernelspec": {
   "display_name": "Python 3 (ipykernel)",
   "language": "python",
   "name": "python3"
  },
  "language_info": {
   "codemirror_mode": {
    "name": "ipython",
    "version": 3
   },
   "file_extension": ".py",
   "mimetype": "text/x-python",
   "name": "python",
   "nbconvert_exporter": "python",
   "pygments_lexer": "ipython3",
   "version": "3.10.0"
  }
 },
 "nbformat": 4,
 "nbformat_minor": 5
}
