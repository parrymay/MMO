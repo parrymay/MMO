{
 "cells": [
  {
   "cell_type": "markdown",
   "id": "e9f20fb3",
   "metadata": {},
   "source": [
    "# Лабораторная работа №2. \"Обработка признаков (часть 1)\"\n",
    "## Выполнил: Громоздов Д.Р.; группа ИУ5-23М"
   ]
  },
  {
   "cell_type": "markdown",
   "id": "cdc61dee",
   "metadata": {},
   "source": [
    "Цель лабораторной работы: изучение продвинутых способов предварительной обработки данных для дальнейшего формирования моделей."
   ]
  },
  {
   "cell_type": "markdown",
   "id": "916ec272",
   "metadata": {},
   "source": [
    "### Задание:\n",
    "Выбрать набор данных (датасет), содержащий категориальные и числовые признаки и пропуски в данных. Для выполнения следующих пунктов можно использовать несколько различных наборов данных (один для обработки пропусков, другой для категориальных признаков и т.д.) Просьба не использовать датасет, на котором данная задача решалась в лекции.\n",
    "Для выбранного датасета (датасетов) на основе материалов лекций решить следующие задачи:\n",
    "\n",
    "a) устранение пропусков в данных;\n",
    "b) кодирование категориальных признаков;\n",
    "c) нормализацию числовых признаков."
   ]
  },
  {
   "cell_type": "code",
   "execution_count": 2,
   "id": "251e6b77",
   "metadata": {},
   "outputs": [],
   "source": [
    "#импортируем библиотеки\n",
    "import numpy as np\n",
    "import pandas as pd\n",
    "import seaborn as sns\n",
    "import matplotlib.pyplot as plt\n",
    "import scipy.stats as stats\n",
    "from sklearn.impute import SimpleImputer\n",
    "from sklearn.impute import MissingIndicator\n",
    "from category_encoders.target_encoder import TargetEncoder as ce_TargetEncoder\n",
    "from sklearn.preprocessing import LabelEncoder\n",
    "%matplotlib inline \n",
    "sns.set(style=\"ticks\")"
   ]
  },
  {
   "cell_type": "markdown",
   "id": "4dd09e7e",
   "metadata": {},
   "source": [
    "## Устранение пропусков в данных"
   ]
  },
  {
   "cell_type": "code",
   "execution_count": 3,
   "id": "0baccead",
   "metadata": {},
   "outputs": [],
   "source": [
    "skip = pd.read_csv('data/gold.csv', sep=\",\")"
   ]
  },
  {
   "cell_type": "code",
   "execution_count": 4,
   "id": "2f1b7c6f",
   "metadata": {},
   "outputs": [
    {
     "data": {
      "text/plain": [
       "(172, 20)"
      ]
     },
     "execution_count": 4,
     "metadata": {},
     "output_type": "execute_result"
    }
   ],
   "source": [
    "skip.shape\n"
   ]
  },
  {
   "cell_type": "code",
   "execution_count": 5,
   "id": "6ba7cbda",
   "metadata": {},
   "outputs": [
    {
     "data": {
      "text/plain": [
       "[('Date', dtype('O')),\n",
       " ('US dollar (USD)', dtype('float64')),\n",
       " ('Euro (EUR)', dtype('float64')),\n",
       " ('Japanese yen (JPY)', dtype('float64')),\n",
       " ('Pound sterling (GBP)', dtype('float64')),\n",
       " ('Canadian dollar (CAD)', dtype('float64')),\n",
       " ('Swiss franc (CHF)', dtype('float64')),\n",
       " ('Indian rupee (INR)', dtype('float64')),\n",
       " ('Chinese renmimbi (CNY)', dtype('float64')),\n",
       " ('Turkish lira (TRY)', dtype('float64')),\n",
       " ('Saudi riyal (SAR)', dtype('float64')),\n",
       " ('Indonesian rupiah (IDR)', dtype('float64')),\n",
       " ('UAE dirham (AED)', dtype('float64')),\n",
       " ('Thai baht THB)', dtype('float64')),\n",
       " ('Vietnamese dong (VND)', dtype('float64')),\n",
       " ('Egyptian pound (EGP)', dtype('float64')),\n",
       " ('Korean won (KRW)', dtype('float64')),\n",
       " ('Russian ruble (RUB)', dtype('float64')),\n",
       " ('South African rand (ZAR)', dtype('float64')),\n",
       " ('Australian dollar (AUD)', dtype('float64'))]"
      ]
     },
     "execution_count": 5,
     "metadata": {},
     "output_type": "execute_result"
    }
   ],
   "source": [
    "list(zip(skip.columns, [i for i in skip.dtypes]))"
   ]
  },
  {
   "cell_type": "code",
   "execution_count": 6,
   "id": "d46e9309",
   "metadata": {
    "scrolled": true
   },
   "outputs": [
    {
     "data": {
      "text/html": [
       "<div>\n",
       "<style scoped>\n",
       "    .dataframe tbody tr th:only-of-type {\n",
       "        vertical-align: middle;\n",
       "    }\n",
       "\n",
       "    .dataframe tbody tr th {\n",
       "        vertical-align: top;\n",
       "    }\n",
       "\n",
       "    .dataframe thead th {\n",
       "        text-align: right;\n",
       "    }\n",
       "</style>\n",
       "<table border=\"1\" class=\"dataframe\">\n",
       "  <thead>\n",
       "    <tr style=\"text-align: right;\">\n",
       "      <th></th>\n",
       "      <th>Date</th>\n",
       "      <th>US dollar (USD)</th>\n",
       "      <th>Euro (EUR)</th>\n",
       "      <th>Japanese yen (JPY)</th>\n",
       "      <th>Pound sterling (GBP)</th>\n",
       "      <th>Canadian dollar (CAD)</th>\n",
       "      <th>Swiss franc (CHF)</th>\n",
       "      <th>Indian rupee (INR)</th>\n",
       "      <th>Chinese renmimbi (CNY)</th>\n",
       "      <th>Turkish lira (TRY)</th>\n",
       "      <th>Saudi riyal (SAR)</th>\n",
       "      <th>Indonesian rupiah (IDR)</th>\n",
       "      <th>UAE dirham (AED)</th>\n",
       "      <th>Thai baht THB)</th>\n",
       "      <th>Vietnamese dong (VND)</th>\n",
       "      <th>Egyptian pound (EGP)</th>\n",
       "      <th>Korean won (KRW)</th>\n",
       "      <th>Russian ruble (RUB)</th>\n",
       "      <th>South African rand (ZAR)</th>\n",
       "      <th>Australian dollar (AUD)</th>\n",
       "    </tr>\n",
       "  </thead>\n",
       "  <tbody>\n",
       "    <tr>\n",
       "      <th>0</th>\n",
       "      <td>Q1 1979</td>\n",
       "      <td>240.10</td>\n",
       "      <td>148.04</td>\n",
       "      <td>50274.29</td>\n",
       "      <td>116.22</td>\n",
       "      <td>278.16</td>\n",
       "      <td>406.20</td>\n",
       "      <td>1940.16</td>\n",
       "      <td>0.0</td>\n",
       "      <td>0.0</td>\n",
       "      <td>796.73</td>\n",
       "      <td>148844.15</td>\n",
       "      <td>910.39</td>\n",
       "      <td>4812.88</td>\n",
       "      <td>0.0</td>\n",
       "      <td>0.0</td>\n",
       "      <td>116123.63</td>\n",
       "      <td>0.0</td>\n",
       "      <td>202.37</td>\n",
       "      <td>214.55</td>\n",
       "    </tr>\n",
       "    <tr>\n",
       "      <th>1</th>\n",
       "      <td>Q2 1979</td>\n",
       "      <td>277.50</td>\n",
       "      <td>169.03</td>\n",
       "      <td>60161.40</td>\n",
       "      <td>127.29</td>\n",
       "      <td>322.55</td>\n",
       "      <td>457.71</td>\n",
       "      <td>2190.55</td>\n",
       "      <td>0.0</td>\n",
       "      <td>0.0</td>\n",
       "      <td>923.02</td>\n",
       "      <td>166854.38</td>\n",
       "      <td>1049.81</td>\n",
       "      <td>5477.29</td>\n",
       "      <td>0.0</td>\n",
       "      <td>0.0</td>\n",
       "      <td>133065.59</td>\n",
       "      <td>0.0</td>\n",
       "      <td>232.34</td>\n",
       "      <td>245.46</td>\n",
       "    </tr>\n",
       "    <tr>\n",
       "      <th>2</th>\n",
       "      <td>Q3 1979</td>\n",
       "      <td>397.25</td>\n",
       "      <td>233.23</td>\n",
       "      <td>89088.49</td>\n",
       "      <td>180.36</td>\n",
       "      <td>460.72</td>\n",
       "      <td>616.45</td>\n",
       "      <td>3190.26</td>\n",
       "      <td>0.0</td>\n",
       "      <td>0.0</td>\n",
       "      <td>1306.81</td>\n",
       "      <td>242994.79</td>\n",
       "      <td>1474.44</td>\n",
       "      <td>7894.94</td>\n",
       "      <td>0.0</td>\n",
       "      <td>0.0</td>\n",
       "      <td>191720.57</td>\n",
       "      <td>0.0</td>\n",
       "      <td>327.15</td>\n",
       "      <td>351.67</td>\n",
       "    </tr>\n",
       "    <tr>\n",
       "      <th>3</th>\n",
       "      <td>Q4 1979</td>\n",
       "      <td>512.00</td>\n",
       "      <td>299.12</td>\n",
       "      <td>125630.27</td>\n",
       "      <td>230.63</td>\n",
       "      <td>611.81</td>\n",
       "      <td>835.57</td>\n",
       "      <td>4189.64</td>\n",
       "      <td>0.0</td>\n",
       "      <td>0.0</td>\n",
       "      <td>1749.03</td>\n",
       "      <td>324101.29</td>\n",
       "      <td>2055.87</td>\n",
       "      <td>10645.23</td>\n",
       "      <td>0.0</td>\n",
       "      <td>0.0</td>\n",
       "      <td>253615.89</td>\n",
       "      <td>0.0</td>\n",
       "      <td>434.07</td>\n",
       "      <td>474.31</td>\n",
       "    </tr>\n",
       "    <tr>\n",
       "      <th>4</th>\n",
       "      <td>Q1 1980</td>\n",
       "      <td>494.50</td>\n",
       "      <td>321.56</td>\n",
       "      <td>125800.01</td>\n",
       "      <td>228.51</td>\n",
       "      <td>599.47</td>\n",
       "      <td>931.87</td>\n",
       "      <td>4155.35</td>\n",
       "      <td>0.0</td>\n",
       "      <td>0.0</td>\n",
       "      <td>1683.53</td>\n",
       "      <td>316964.84</td>\n",
       "      <td>1890.49</td>\n",
       "      <td>10312.81</td>\n",
       "      <td>0.0</td>\n",
       "      <td>0.0</td>\n",
       "      <td>294925.42</td>\n",
       "      <td>0.0</td>\n",
       "      <td>407.51</td>\n",
       "      <td>465.18</td>\n",
       "    </tr>\n",
       "  </tbody>\n",
       "</table>\n",
       "</div>"
      ],
      "text/plain": [
       "      Date  US dollar (USD)  Euro (EUR)  Japanese yen (JPY)  \\\n",
       "0  Q1 1979           240.10      148.04            50274.29   \n",
       "1  Q2 1979           277.50      169.03            60161.40   \n",
       "2  Q3 1979           397.25      233.23            89088.49   \n",
       "3  Q4 1979           512.00      299.12           125630.27   \n",
       "4  Q1 1980           494.50      321.56           125800.01   \n",
       "\n",
       "   Pound sterling (GBP)  Canadian dollar (CAD)  Swiss franc (CHF)  \\\n",
       "0                116.22                 278.16             406.20   \n",
       "1                127.29                 322.55             457.71   \n",
       "2                180.36                 460.72             616.45   \n",
       "3                230.63                 611.81             835.57   \n",
       "4                228.51                 599.47             931.87   \n",
       "\n",
       "   Indian rupee (INR)  Chinese renmimbi (CNY)  Turkish lira (TRY)  \\\n",
       "0             1940.16                     0.0                 0.0   \n",
       "1             2190.55                     0.0                 0.0   \n",
       "2             3190.26                     0.0                 0.0   \n",
       "3             4189.64                     0.0                 0.0   \n",
       "4             4155.35                     0.0                 0.0   \n",
       "\n",
       "   Saudi riyal (SAR)  Indonesian rupiah (IDR)  UAE dirham (AED)  \\\n",
       "0             796.73                148844.15            910.39   \n",
       "1             923.02                166854.38           1049.81   \n",
       "2            1306.81                242994.79           1474.44   \n",
       "3            1749.03                324101.29           2055.87   \n",
       "4            1683.53                316964.84           1890.49   \n",
       "\n",
       "   Thai baht THB)  Vietnamese dong (VND)  Egyptian pound (EGP)  \\\n",
       "0         4812.88                    0.0                   0.0   \n",
       "1         5477.29                    0.0                   0.0   \n",
       "2         7894.94                    0.0                   0.0   \n",
       "3        10645.23                    0.0                   0.0   \n",
       "4        10312.81                    0.0                   0.0   \n",
       "\n",
       "   Korean won (KRW)  Russian ruble (RUB)  South African rand (ZAR)  \\\n",
       "0         116123.63                  0.0                    202.37   \n",
       "1         133065.59                  0.0                    232.34   \n",
       "2         191720.57                  0.0                    327.15   \n",
       "3         253615.89                  0.0                    434.07   \n",
       "4         294925.42                  0.0                    407.51   \n",
       "\n",
       "   Australian dollar (AUD)  \n",
       "0                   214.55  \n",
       "1                   245.46  \n",
       "2                   351.67  \n",
       "3                   474.31  \n",
       "4                   465.18  "
      ]
     },
     "execution_count": 6,
     "metadata": {},
     "output_type": "execute_result"
    }
   ],
   "source": [
    "skip.head()"
   ]
  },
  {
   "cell_type": "markdown",
   "id": "4ddcdea1",
   "metadata": {},
   "source": [
    "Датасет имеет пропуски, но они в данном случае заполнены нулевыми значениями. Приведём колонки, содержащие нули к виду, который воспринимает pandas и numpy:"
   ]
  },
  {
   "cell_type": "code",
   "execution_count": 7,
   "id": "971f27bb",
   "metadata": {},
   "outputs": [
    {
     "data": {
      "text/html": [
       "<div>\n",
       "<style scoped>\n",
       "    .dataframe tbody tr th:only-of-type {\n",
       "        vertical-align: middle;\n",
       "    }\n",
       "\n",
       "    .dataframe tbody tr th {\n",
       "        vertical-align: top;\n",
       "    }\n",
       "\n",
       "    .dataframe thead th {\n",
       "        text-align: right;\n",
       "    }\n",
       "</style>\n",
       "<table border=\"1\" class=\"dataframe\">\n",
       "  <thead>\n",
       "    <tr style=\"text-align: right;\">\n",
       "      <th></th>\n",
       "      <th>Date</th>\n",
       "      <th>US dollar (USD)</th>\n",
       "      <th>Euro (EUR)</th>\n",
       "      <th>Japanese yen (JPY)</th>\n",
       "      <th>Pound sterling (GBP)</th>\n",
       "      <th>Canadian dollar (CAD)</th>\n",
       "      <th>Swiss franc (CHF)</th>\n",
       "      <th>Indian rupee (INR)</th>\n",
       "      <th>Chinese renmimbi (CNY)</th>\n",
       "      <th>Turkish lira (TRY)</th>\n",
       "      <th>Saudi riyal (SAR)</th>\n",
       "      <th>Indonesian rupiah (IDR)</th>\n",
       "      <th>UAE dirham (AED)</th>\n",
       "      <th>Thai baht THB)</th>\n",
       "      <th>Vietnamese dong (VND)</th>\n",
       "      <th>Egyptian pound (EGP)</th>\n",
       "      <th>Korean won (KRW)</th>\n",
       "      <th>Russian ruble (RUB)</th>\n",
       "      <th>South African rand (ZAR)</th>\n",
       "      <th>Australian dollar (AUD)</th>\n",
       "    </tr>\n",
       "  </thead>\n",
       "  <tbody>\n",
       "    <tr>\n",
       "      <th>0</th>\n",
       "      <td>Q1 1979</td>\n",
       "      <td>240.10</td>\n",
       "      <td>148.04</td>\n",
       "      <td>50274.29</td>\n",
       "      <td>116.22</td>\n",
       "      <td>278.16</td>\n",
       "      <td>406.20</td>\n",
       "      <td>1940.16</td>\n",
       "      <td>&lt;NA&gt;</td>\n",
       "      <td>NaN</td>\n",
       "      <td>796.73</td>\n",
       "      <td>148844.15</td>\n",
       "      <td>910.39</td>\n",
       "      <td>4812.88</td>\n",
       "      <td>&lt;NA&gt;</td>\n",
       "      <td>&lt;NA&gt;</td>\n",
       "      <td>116123.63</td>\n",
       "      <td>&lt;NA&gt;</td>\n",
       "      <td>202.37</td>\n",
       "      <td>214.55</td>\n",
       "    </tr>\n",
       "    <tr>\n",
       "      <th>1</th>\n",
       "      <td>Q2 1979</td>\n",
       "      <td>277.50</td>\n",
       "      <td>169.03</td>\n",
       "      <td>60161.40</td>\n",
       "      <td>127.29</td>\n",
       "      <td>322.55</td>\n",
       "      <td>457.71</td>\n",
       "      <td>2190.55</td>\n",
       "      <td>&lt;NA&gt;</td>\n",
       "      <td>NaN</td>\n",
       "      <td>923.02</td>\n",
       "      <td>166854.38</td>\n",
       "      <td>1049.81</td>\n",
       "      <td>5477.29</td>\n",
       "      <td>&lt;NA&gt;</td>\n",
       "      <td>&lt;NA&gt;</td>\n",
       "      <td>133065.59</td>\n",
       "      <td>&lt;NA&gt;</td>\n",
       "      <td>232.34</td>\n",
       "      <td>245.46</td>\n",
       "    </tr>\n",
       "    <tr>\n",
       "      <th>2</th>\n",
       "      <td>Q3 1979</td>\n",
       "      <td>397.25</td>\n",
       "      <td>233.23</td>\n",
       "      <td>89088.49</td>\n",
       "      <td>180.36</td>\n",
       "      <td>460.72</td>\n",
       "      <td>616.45</td>\n",
       "      <td>3190.26</td>\n",
       "      <td>&lt;NA&gt;</td>\n",
       "      <td>NaN</td>\n",
       "      <td>1306.81</td>\n",
       "      <td>242994.79</td>\n",
       "      <td>1474.44</td>\n",
       "      <td>7894.94</td>\n",
       "      <td>&lt;NA&gt;</td>\n",
       "      <td>&lt;NA&gt;</td>\n",
       "      <td>191720.57</td>\n",
       "      <td>&lt;NA&gt;</td>\n",
       "      <td>327.15</td>\n",
       "      <td>351.67</td>\n",
       "    </tr>\n",
       "    <tr>\n",
       "      <th>3</th>\n",
       "      <td>Q4 1979</td>\n",
       "      <td>512.00</td>\n",
       "      <td>299.12</td>\n",
       "      <td>125630.27</td>\n",
       "      <td>230.63</td>\n",
       "      <td>611.81</td>\n",
       "      <td>835.57</td>\n",
       "      <td>4189.64</td>\n",
       "      <td>&lt;NA&gt;</td>\n",
       "      <td>NaN</td>\n",
       "      <td>1749.03</td>\n",
       "      <td>324101.29</td>\n",
       "      <td>2055.87</td>\n",
       "      <td>10645.23</td>\n",
       "      <td>&lt;NA&gt;</td>\n",
       "      <td>&lt;NA&gt;</td>\n",
       "      <td>253615.89</td>\n",
       "      <td>&lt;NA&gt;</td>\n",
       "      <td>434.07</td>\n",
       "      <td>474.31</td>\n",
       "    </tr>\n",
       "    <tr>\n",
       "      <th>4</th>\n",
       "      <td>Q1 1980</td>\n",
       "      <td>494.50</td>\n",
       "      <td>321.56</td>\n",
       "      <td>125800.01</td>\n",
       "      <td>228.51</td>\n",
       "      <td>599.47</td>\n",
       "      <td>931.87</td>\n",
       "      <td>4155.35</td>\n",
       "      <td>&lt;NA&gt;</td>\n",
       "      <td>NaN</td>\n",
       "      <td>1683.53</td>\n",
       "      <td>316964.84</td>\n",
       "      <td>1890.49</td>\n",
       "      <td>10312.81</td>\n",
       "      <td>&lt;NA&gt;</td>\n",
       "      <td>&lt;NA&gt;</td>\n",
       "      <td>294925.42</td>\n",
       "      <td>&lt;NA&gt;</td>\n",
       "      <td>407.51</td>\n",
       "      <td>465.18</td>\n",
       "    </tr>\n",
       "  </tbody>\n",
       "</table>\n",
       "</div>"
      ],
      "text/plain": [
       "      Date  US dollar (USD)  Euro (EUR)  Japanese yen (JPY)  \\\n",
       "0  Q1 1979           240.10      148.04            50274.29   \n",
       "1  Q2 1979           277.50      169.03            60161.40   \n",
       "2  Q3 1979           397.25      233.23            89088.49   \n",
       "3  Q4 1979           512.00      299.12           125630.27   \n",
       "4  Q1 1980           494.50      321.56           125800.01   \n",
       "\n",
       "   Pound sterling (GBP)  Canadian dollar (CAD)  Swiss franc (CHF)  \\\n",
       "0                116.22                 278.16             406.20   \n",
       "1                127.29                 322.55             457.71   \n",
       "2                180.36                 460.72             616.45   \n",
       "3                230.63                 611.81             835.57   \n",
       "4                228.51                 599.47             931.87   \n",
       "\n",
       "   Indian rupee (INR) Chinese renmimbi (CNY)  Turkish lira (TRY)  \\\n",
       "0             1940.16                   <NA>                 NaN   \n",
       "1             2190.55                   <NA>                 NaN   \n",
       "2             3190.26                   <NA>                 NaN   \n",
       "3             4189.64                   <NA>                 NaN   \n",
       "4             4155.35                   <NA>                 NaN   \n",
       "\n",
       "   Saudi riyal (SAR)  Indonesian rupiah (IDR)  UAE dirham (AED)  \\\n",
       "0             796.73                148844.15            910.39   \n",
       "1             923.02                166854.38           1049.81   \n",
       "2            1306.81                242994.79           1474.44   \n",
       "3            1749.03                324101.29           2055.87   \n",
       "4            1683.53                316964.84           1890.49   \n",
       "\n",
       "   Thai baht THB) Vietnamese dong (VND) Egyptian pound (EGP)  \\\n",
       "0         4812.88                  <NA>                 <NA>   \n",
       "1         5477.29                  <NA>                 <NA>   \n",
       "2         7894.94                  <NA>                 <NA>   \n",
       "3        10645.23                  <NA>                 <NA>   \n",
       "4        10312.81                  <NA>                 <NA>   \n",
       "\n",
       "   Korean won (KRW) Russian ruble (RUB)  South African rand (ZAR)  \\\n",
       "0         116123.63                <NA>                    202.37   \n",
       "1         133065.59                <NA>                    232.34   \n",
       "2         191720.57                <NA>                    327.15   \n",
       "3         253615.89                <NA>                    434.07   \n",
       "4         294925.42                <NA>                    407.51   \n",
       "\n",
       "   Australian dollar (AUD)  \n",
       "0                   214.55  \n",
       "1                   245.46  \n",
       "2                   351.67  \n",
       "3                   474.31  \n",
       "4                   465.18  "
      ]
     },
     "execution_count": 7,
     "metadata": {},
     "output_type": "execute_result"
    }
   ],
   "source": [
    "#converting null-values\n",
    "skip.loc[(skip['Chinese renmimbi (CNY)'] == 0.0), \"Chinese renmimbi (CNY)\"] = pd.NA\n",
    "skip.loc[(skip['Turkish lira (TRY)'] == 0.0), \"Turkish lira (TRY)\"] = np.nan\n",
    "skip.loc[(skip['Vietnamese dong (VND)'] == 0.0), \"Vietnamese dong (VND)\"] = pd.NA\n",
    "skip.loc[(skip['Egyptian pound (EGP)'] == 0.0), \"Egyptian pound (EGP)\"] = pd.NA\n",
    "skip.loc[(skip['Russian ruble (RUB)'] == 0.0), \"Russian ruble (RUB)\"] = pd.NA\n",
    "skip.head()"
   ]
  },
  {
   "cell_type": "code",
   "execution_count": 8,
   "id": "2a335f59",
   "metadata": {},
   "outputs": [
    {
     "data": {
      "text/plain": [
       "['Chinese renmimbi (CNY)',\n",
       " 'Turkish lira (TRY)',\n",
       " 'Vietnamese dong (VND)',\n",
       " 'Egyptian pound (EGP)',\n",
       " 'Russian ruble (RUB)']"
      ]
     },
     "execution_count": 8,
     "metadata": {},
     "output_type": "execute_result"
    }
   ],
   "source": [
    "#проверяем, что теперь эти колонки видимы, как пропуски\n",
    "cols_with_na = [col for col in skip.columns if skip[col].isnull().sum() > 0]\n",
    "cols_with_na"
   ]
  },
  {
   "cell_type": "code",
   "execution_count": 9,
   "id": "83b6f317",
   "metadata": {},
   "outputs": [
    {
     "data": {
      "text/plain": [
       "[('Chinese renmimbi (CNY)', 24),\n",
       " ('Turkish lira (TRY)', 15),\n",
       " ('Vietnamese dong (VND)', 43),\n",
       " ('Egyptian pound (EGP)', 39),\n",
       " ('Russian ruble (RUB)', 56)]"
      ]
     },
     "execution_count": 9,
     "metadata": {},
     "output_type": "execute_result"
    }
   ],
   "source": [
    "#считаем пропуски и заодно удостоверимся, что заменились только нули, а не все данные\n",
    "[(col, skip[col].isnull().sum()) for col in cols_with_na]"
   ]
  },
  {
   "cell_type": "code",
   "execution_count": 10,
   "id": "2d8dc558",
   "metadata": {},
   "outputs": [
    {
     "data": {
      "text/plain": [
       "[('Chinese renmimbi (CNY)', 0.13953488372093023),\n",
       " ('Turkish lira (TRY)', 0.0872093023255814),\n",
       " ('Vietnamese dong (VND)', 0.25),\n",
       " ('Egyptian pound (EGP)', 0.22674418604651161),\n",
       " ('Russian ruble (RUB)', 0.32558139534883723)]"
      ]
     },
     "execution_count": 10,
     "metadata": {},
     "output_type": "execute_result"
    }
   ],
   "source": [
    "# Вычислим проценты пропусков\n",
    "[(col, skip[col].isnull().mean()) for col in cols_with_na]"
   ]
  },
  {
   "cell_type": "markdown",
   "id": "cca733b0",
   "metadata": {},
   "source": [
    "Пропусков в колонках достаточно много, будем работать с колонкой турецкой лиры, у неё процент пропусков наименьший."
   ]
  },
  {
   "cell_type": "code",
   "execution_count": 11,
   "id": "203adeb3",
   "metadata": {},
   "outputs": [
    {
     "data": {
      "text/plain": [
       "(157, 1)"
      ]
     },
     "execution_count": 11,
     "metadata": {},
     "output_type": "execute_result"
    }
   ],
   "source": [
    "skip_drop = skip[['Turkish lira (TRY)']].dropna()\n",
    "skip_drop.shape"
   ]
  },
  {
   "cell_type": "code",
   "execution_count": 12,
   "id": "f15825f2",
   "metadata": {},
   "outputs": [
    {
     "data": {
      "image/png": "[encoded data removed]",
      "text/plain": [
       "<Figure size 432x288 with 1 Axes>"
      ]
     },
     "metadata": {},
     "output_type": "display_data"
    }
   ],
   "source": [
    "fig = plt.figure()\n",
    "ax = fig.add_subplot(111)\n",
    "skip[\"Turkish lira (TRY)\"].hist(bins=50, ax=ax, density=True, color='green')\n",
    "skip_drop[\"Turkish lira (TRY)\"].hist(bins=50, ax=ax, color='blue', density=True, alpha=0.5)\n",
    "plt.show()"
   ]
  },
  {
   "cell_type": "markdown",
   "id": "6225e221",
   "metadata": {},
   "source": [
    "Распределение ассиметричное и от удаления пропусков почти не изменилось. Датасет небольшого размера, поэтому не будем использовать метод заполнения случайными значениями. Пропуски распределены случайно, распределение не выглядит однозначно одномодальным. Из-за ассиметричности заполним пустые значения медианой распределения."
   ]
  },
  {
   "cell_type": "code",
   "execution_count": 13,
   "id": "56df714b",
   "metadata": {},
   "outputs": [],
   "source": [
    "def impute_column(dataset, column, strategy_param, fill_value_param=None):\n",
    "    \"\"\"\n",
    "    Заполнение пропусков в одном признаке\n",
    "    \"\"\"\n",
    "    temp_data = dataset[[column]].values\n",
    "    size = temp_data.shape[0]\n",
    "    \n",
    "    indicator = MissingIndicator()\n",
    "    mask_missing_values_only = indicator.fit_transform(temp_data)\n",
    "    \n",
    "    imputer = SimpleImputer(strategy=strategy_param, \n",
    "                            fill_value=fill_value_param)\n",
    "    all_data = imputer.fit_transform(temp_data)\n",
    "    \n",
    "    missed_data = temp_data[mask_missing_values_only]\n",
    "    filled_data = all_data[mask_missing_values_only]\n",
    "    \n",
    "    return all_data.reshape((size,)), filled_data, missed_data"
   ]
  },
  {
   "cell_type": "code",
   "execution_count": 14,
   "id": "44383d64",
   "metadata": {},
   "outputs": [],
   "source": [
    "all_data, filled_data, missed_data = impute_column(skip, 'Turkish lira (TRY)', 'median')"
   ]
  },
  {
   "cell_type": "code",
   "execution_count": 15,
   "id": "17cce848",
   "metadata": {},
   "outputs": [
    {
     "data": {
      "text/plain": [
       "array([4.905400e+02, 4.905400e+02, 4.905400e+02, 4.905400e+02,\n",
       "       4.905400e+02, 4.905400e+02, 4.905400e+02, 4.905400e+02,\n",
       "       4.905400e+02, 4.905400e+02, 4.905400e+02, 4.905400e+02,\n",
       "       4.905400e+02, 4.905400e+02, 4.905400e+02, 8.000000e-02,\n",
       "       8.000000e-02, 9.000000e-02, 1.000000e-01, 1.100000e-01,\n",
       "       1.200000e-01, 1.400000e-01, 1.400000e-01, 1.400000e-01,\n",
       "       1.500000e-01, 1.700000e-01, 1.800000e-01, 1.800000e-01,\n",
       "       2.200000e-01, 2.300000e-01, 2.900000e-01, 2.800000e-01,\n",
       "       3.300000e-01, 3.800000e-01, 4.200000e-01, 4.700000e-01,\n",
       "       5.400000e-01, 6.100000e-01, 6.400000e-01, 7.500000e-01,\n",
       "       7.800000e-01, 8.000000e-01, 7.900000e-01, 9.200000e-01,\n",
       "       8.800000e-01, 9.200000e-01, 1.120000e+00, 1.120000e+00,\n",
       "       1.320000e+00, 1.600000e+00, 1.650000e+00, 1.800000e+00,\n",
       "       2.140000e+00, 2.370000e+00, 2.530000e+00, 2.860000e+00,\n",
       "       3.190000e+00, 4.140000e+00, 4.370000e+00, 5.830000e+00,\n",
       "       1.010000e+01, 1.204000e+01, 1.351000e+01, 1.483000e+01,\n",
       "       1.654000e+01, 1.712000e+01, 1.890000e+01, 2.357000e+01,\n",
       "       2.810000e+01, 3.139000e+01, 3.481000e+01, 4.028000e+01,\n",
       "       4.445000e+01, 4.967000e+01, 5.787000e+01, 6.011000e+01,\n",
       "       7.316000e+01, 7.893000e+01, 8.158000e+01, 9.077000e+01,\n",
       "       1.042500e+02, 1.101500e+02, 1.379600e+02, 1.574300e+02,\n",
       "       1.629900e+02, 1.785100e+02, 1.821200e+02, 1.839600e+02,\n",
       "       2.712300e+02, 3.396000e+02, 4.485900e+02, 4.023100e+02,\n",
       "       4.032700e+02, 5.049800e+02, 5.378300e+02, 5.763500e+02,\n",
       "       5.744300e+02, 4.905400e+02, 5.402900e+02, 5.848300e+02,\n",
       "       5.567400e+02, 5.873700e+02, 6.257600e+02, 5.874100e+02,\n",
       "       5.773400e+02, 5.837500e+02, 6.368800e+02, 6.933200e+02,\n",
       "       7.830800e+02, 9.745400e+02, 9.063700e+02, 8.952300e+02,\n",
       "       9.181800e+02, 8.495900e+02, 9.000000e+02, 9.773600e+02,\n",
       "       1.247160e+03, 1.137420e+03, 1.124200e+03, 1.342460e+03,\n",
       "       1.533350e+03, 1.435580e+03, 1.480030e+03, 1.630110e+03,\n",
       "       1.698010e+03, 1.969560e+03, 1.890510e+03, 2.163060e+03,\n",
       "       2.221600e+03, 2.444930e+03, 3.012310e+03, 2.891450e+03,\n",
       "       2.964070e+03, 2.891210e+03, 3.188990e+03, 2.958140e+03,\n",
       "       2.892030e+03, 2.299900e+03, 2.683310e+03, 2.587870e+03,\n",
       "       2.763310e+03, 2.788190e+03, 2.774590e+03, 2.819330e+03,\n",
       "       3.082040e+03, 3.137110e+03, 3.372910e+03, 3.093980e+03,\n",
       "       3.483020e+03, 3.798010e+03, 3.968430e+03, 4.030820e+03,\n",
       "       4.533310e+03, 4.375890e+03, 4.562830e+03, 4.894950e+03,\n",
       "       5.244300e+03, 5.728560e+03, 7.132170e+03, 6.804150e+03,\n",
       "       7.318490e+03, 8.149660e+03, 8.386740e+03, 9.014280e+03,\n",
       "       1.060338e+04, 1.211988e+04, 1.453696e+04, 1.402959e+04,\n",
       "       1.399555e+04, 1.531736e+04, 1.548347e+04, 2.398124e+04])"
      ]
     },
     "execution_count": 15,
     "metadata": {},
     "output_type": "execute_result"
    }
   ],
   "source": [
    "all_data"
   ]
  },
  {
   "cell_type": "code",
   "execution_count": 16,
   "id": "149748da",
   "metadata": {},
   "outputs": [
    {
     "data": {
      "text/plain": [
       "array([490.54, 490.54, 490.54, 490.54, 490.54, 490.54, 490.54, 490.54,\n",
       "       490.54, 490.54, 490.54, 490.54, 490.54, 490.54, 490.54])"
      ]
     },
     "execution_count": 16,
     "metadata": {},
     "output_type": "execute_result"
    }
   ],
   "source": [
    "filled_data"
   ]
  },
  {
   "cell_type": "code",
   "execution_count": 17,
   "id": "4bcdec55",
   "metadata": {},
   "outputs": [
    {
     "data": {
      "text/plain": [
       "array([nan, nan, nan, nan, nan, nan, nan, nan, nan, nan, nan, nan, nan,\n",
       "       nan, nan])"
      ]
     },
     "execution_count": 17,
     "metadata": {},
     "output_type": "execute_result"
    }
   ],
   "source": [
    "missed_data"
   ]
  },
  {
   "cell_type": "markdown",
   "id": "01875fb7",
   "metadata": {},
   "source": [
    "## Кодирование категориальных признаков"
   ]
  },
  {
   "cell_type": "code",
   "execution_count": 36,
   "id": "b60b6351",
   "metadata": {},
   "outputs": [],
   "source": [
    "data_code = pd.read_csv('data/prices_tunisia.csv', sep=\",\")"
   ]
  },
  {
   "cell_type": "code",
   "execution_count": 19,
   "id": "d7255a3a",
   "metadata": {},
   "outputs": [
    {
     "data": {
      "text/html": [
       "<div>\n",
       "<style scoped>\n",
       "    .dataframe tbody tr th:only-of-type {\n",
       "        vertical-align: middle;\n",
       "    }\n",
       "\n",
       "    .dataframe tbody tr th {\n",
       "        vertical-align: top;\n",
       "    }\n",
       "\n",
       "    .dataframe thead th {\n",
       "        text-align: right;\n",
       "    }\n",
       "</style>\n",
       "<table border=\"1\" class=\"dataframe\">\n",
       "  <thead>\n",
       "    <tr style=\"text-align: right;\">\n",
       "      <th></th>\n",
       "      <th>category</th>\n",
       "      <th>room_count</th>\n",
       "      <th>bathroom_count</th>\n",
       "      <th>size</th>\n",
       "      <th>type</th>\n",
       "      <th>price</th>\n",
       "      <th>city</th>\n",
       "      <th>region</th>\n",
       "      <th>log_price</th>\n",
       "    </tr>\n",
       "  </thead>\n",
       "  <tbody>\n",
       "    <tr>\n",
       "      <th>0</th>\n",
       "      <td>Terrains et Fermes</td>\n",
       "      <td>-1.0</td>\n",
       "      <td>-1.0</td>\n",
       "      <td>-1.0</td>\n",
       "      <td>À Vendre</td>\n",
       "      <td>100000.0</td>\n",
       "      <td>Ariana</td>\n",
       "      <td>Raoued</td>\n",
       "      <td>5.000000</td>\n",
       "    </tr>\n",
       "    <tr>\n",
       "      <th>1</th>\n",
       "      <td>Terrains et Fermes</td>\n",
       "      <td>-1.0</td>\n",
       "      <td>-1.0</td>\n",
       "      <td>-1.0</td>\n",
       "      <td>À Vendre</td>\n",
       "      <td>316000.0</td>\n",
       "      <td>Ariana</td>\n",
       "      <td>Autres villes</td>\n",
       "      <td>5.499687</td>\n",
       "    </tr>\n",
       "    <tr>\n",
       "      <th>2</th>\n",
       "      <td>Appartements</td>\n",
       "      <td>2.0</td>\n",
       "      <td>1.0</td>\n",
       "      <td>80.0</td>\n",
       "      <td>À Louer</td>\n",
       "      <td>380.0</td>\n",
       "      <td>Ariana</td>\n",
       "      <td>Autres villes</td>\n",
       "      <td>2.579784</td>\n",
       "    </tr>\n",
       "    <tr>\n",
       "      <th>3</th>\n",
       "      <td>Locations de vacances</td>\n",
       "      <td>1.0</td>\n",
       "      <td>1.0</td>\n",
       "      <td>90.0</td>\n",
       "      <td>À Louer</td>\n",
       "      <td>70.0</td>\n",
       "      <td>Ariana</td>\n",
       "      <td>Autres villes</td>\n",
       "      <td>1.845098</td>\n",
       "    </tr>\n",
       "    <tr>\n",
       "      <th>4</th>\n",
       "      <td>Appartements</td>\n",
       "      <td>2.0</td>\n",
       "      <td>2.0</td>\n",
       "      <td>113.0</td>\n",
       "      <td>À Vendre</td>\n",
       "      <td>170000.0</td>\n",
       "      <td>Ariana</td>\n",
       "      <td>Ariana Ville</td>\n",
       "      <td>5.230449</td>\n",
       "    </tr>\n",
       "  </tbody>\n",
       "</table>\n",
       "</div>"
      ],
      "text/plain": [
       "                category  room_count  bathroom_count   size      type  \\\n",
       "0     Terrains et Fermes        -1.0            -1.0   -1.0  À Vendre   \n",
       "1     Terrains et Fermes        -1.0            -1.0   -1.0  À Vendre   \n",
       "2           Appartements         2.0             1.0   80.0   À Louer   \n",
       "3  Locations de vacances         1.0             1.0   90.0   À Louer   \n",
       "4           Appartements         2.0             2.0  113.0  À Vendre   \n",
       "\n",
       "      price    city         region  log_price  \n",
       "0  100000.0  Ariana         Raoued   5.000000  \n",
       "1  316000.0  Ariana  Autres villes   5.499687  \n",
       "2     380.0  Ariana  Autres villes   2.579784  \n",
       "3      70.0  Ariana  Autres villes   1.845098  \n",
       "4  170000.0  Ariana   Ariana Ville   5.230449  "
      ]
     },
     "execution_count": 19,
     "metadata": {},
     "output_type": "execute_result"
    }
   ],
   "source": [
    "data_code.head()"
   ]
  },
  {
   "cell_type": "code",
   "execution_count": 20,
   "id": "94951608",
   "metadata": {},
   "outputs": [],
   "source": [
    "data_coded = ce_TargetEncoder().fit_transform(data_code[data_code.columns.difference(['category', 'region', 'log_price'])], data_code['log_price'])"
   ]
  },
  {
   "cell_type": "code",
   "execution_count": 21,
   "id": "911e06e8",
   "metadata": {},
   "outputs": [
    {
     "data": {
      "text/html": [
       "<div>\n",
       "<style scoped>\n",
       "    .dataframe tbody tr th:only-of-type {\n",
       "        vertical-align: middle;\n",
       "    }\n",
       "\n",
       "    .dataframe tbody tr th {\n",
       "        vertical-align: top;\n",
       "    }\n",
       "\n",
       "    .dataframe thead th {\n",
       "        text-align: right;\n",
       "    }\n",
       "</style>\n",
       "<table border=\"1\" class=\"dataframe\">\n",
       "  <thead>\n",
       "    <tr style=\"text-align: right;\">\n",
       "      <th></th>\n",
       "      <th>bathroom_count</th>\n",
       "      <th>city</th>\n",
       "      <th>price</th>\n",
       "      <th>room_count</th>\n",
       "      <th>size</th>\n",
       "      <th>type</th>\n",
       "    </tr>\n",
       "  </thead>\n",
       "  <tbody>\n",
       "    <tr>\n",
       "      <th>0</th>\n",
       "      <td>-1.0</td>\n",
       "      <td>4.396202</td>\n",
       "      <td>100000.0</td>\n",
       "      <td>-1.0</td>\n",
       "      <td>-1.0</td>\n",
       "      <td>5.377462</td>\n",
       "    </tr>\n",
       "    <tr>\n",
       "      <th>1</th>\n",
       "      <td>-1.0</td>\n",
       "      <td>4.396202</td>\n",
       "      <td>316000.0</td>\n",
       "      <td>-1.0</td>\n",
       "      <td>-1.0</td>\n",
       "      <td>5.377462</td>\n",
       "    </tr>\n",
       "    <tr>\n",
       "      <th>2</th>\n",
       "      <td>1.0</td>\n",
       "      <td>4.396202</td>\n",
       "      <td>380.0</td>\n",
       "      <td>2.0</td>\n",
       "      <td>80.0</td>\n",
       "      <td>2.814535</td>\n",
       "    </tr>\n",
       "    <tr>\n",
       "      <th>3</th>\n",
       "      <td>1.0</td>\n",
       "      <td>4.396202</td>\n",
       "      <td>70.0</td>\n",
       "      <td>1.0</td>\n",
       "      <td>90.0</td>\n",
       "      <td>2.814535</td>\n",
       "    </tr>\n",
       "    <tr>\n",
       "      <th>4</th>\n",
       "      <td>2.0</td>\n",
       "      <td>4.396202</td>\n",
       "      <td>170000.0</td>\n",
       "      <td>2.0</td>\n",
       "      <td>113.0</td>\n",
       "      <td>5.377462</td>\n",
       "    </tr>\n",
       "    <tr>\n",
       "      <th>...</th>\n",
       "      <td>...</td>\n",
       "      <td>...</td>\n",
       "      <td>...</td>\n",
       "      <td>...</td>\n",
       "      <td>...</td>\n",
       "      <td>...</td>\n",
       "    </tr>\n",
       "    <tr>\n",
       "      <th>12743</th>\n",
       "      <td>-1.0</td>\n",
       "      <td>4.097203</td>\n",
       "      <td>3200000.0</td>\n",
       "      <td>-1.0</td>\n",
       "      <td>-1.0</td>\n",
       "      <td>5.377462</td>\n",
       "    </tr>\n",
       "    <tr>\n",
       "      <th>12744</th>\n",
       "      <td>1.0</td>\n",
       "      <td>4.097203</td>\n",
       "      <td>600.0</td>\n",
       "      <td>1.0</td>\n",
       "      <td>100.0</td>\n",
       "      <td>2.814535</td>\n",
       "    </tr>\n",
       "    <tr>\n",
       "      <th>12745</th>\n",
       "      <td>1.0</td>\n",
       "      <td>4.097203</td>\n",
       "      <td>1950000.0</td>\n",
       "      <td>3.0</td>\n",
       "      <td>760.0</td>\n",
       "      <td>5.377462</td>\n",
       "    </tr>\n",
       "    <tr>\n",
       "      <th>12746</th>\n",
       "      <td>1.0</td>\n",
       "      <td>4.097203</td>\n",
       "      <td>240000.0</td>\n",
       "      <td>3.0</td>\n",
       "      <td>190.0</td>\n",
       "      <td>5.377462</td>\n",
       "    </tr>\n",
       "    <tr>\n",
       "      <th>12747</th>\n",
       "      <td>1.0</td>\n",
       "      <td>4.097203</td>\n",
       "      <td>500.0</td>\n",
       "      <td>2.0</td>\n",
       "      <td>70.0</td>\n",
       "      <td>2.814535</td>\n",
       "    </tr>\n",
       "  </tbody>\n",
       "</table>\n",
       "<p>12748 rows × 6 columns</p>\n",
       "</div>"
      ],
      "text/plain": [
       "       bathroom_count      city      price  room_count   size      type\n",
       "0                -1.0  4.396202   100000.0        -1.0   -1.0  5.377462\n",
       "1                -1.0  4.396202   316000.0        -1.0   -1.0  5.377462\n",
       "2                 1.0  4.396202      380.0         2.0   80.0  2.814535\n",
       "3                 1.0  4.396202       70.0         1.0   90.0  2.814535\n",
       "4                 2.0  4.396202   170000.0         2.0  113.0  5.377462\n",
       "...               ...       ...        ...         ...    ...       ...\n",
       "12743            -1.0  4.097203  3200000.0        -1.0   -1.0  5.377462\n",
       "12744             1.0  4.097203      600.0         1.0  100.0  2.814535\n",
       "12745             1.0  4.097203  1950000.0         3.0  760.0  5.377462\n",
       "12746             1.0  4.097203   240000.0         3.0  190.0  5.377462\n",
       "12747             1.0  4.097203      500.0         2.0   70.0  2.814535\n",
       "\n",
       "[12748 rows x 6 columns]"
      ]
     },
     "execution_count": 21,
     "metadata": {},
     "output_type": "execute_result"
    }
   ],
   "source": [
    "data_coded"
   ]
  },
  {
   "cell_type": "code",
   "execution_count": 22,
   "id": "eb10ae14",
   "metadata": {},
   "outputs": [
    {
     "data": {
      "text/plain": [
       "array(['Ariana', 'Béja', 'Ben arous', 'Bizerte', 'Gabès', 'Gafsa',\n",
       "       'Jendouba', 'Kairouan', 'Kasserine', 'Kébili', 'La manouba',\n",
       "       'Le kef', 'Mahdia', 'Médenine', 'Monastir', 'Sidi bouzid',\n",
       "       'Siliana', 'Sousse', 'Tataouine', 'Tozeur', 'Zaghouan', 'Sfax',\n",
       "       'Nabeul', 'Tunis'], dtype=object)"
      ]
     },
     "execution_count": 22,
     "metadata": {},
     "output_type": "execute_result"
    }
   ],
   "source": [
    "data_code['city'].unique()"
   ]
  },
  {
   "cell_type": "code",
   "execution_count": 23,
   "id": "c4988ca8",
   "metadata": {},
   "outputs": [
    {
     "data": {
      "text/plain": [
       "array(['À Vendre', 'À Louer'], dtype=object)"
      ]
     },
     "execution_count": 23,
     "metadata": {},
     "output_type": "execute_result"
    }
   ],
   "source": [
    "data_code['type'].unique()"
   ]
  },
  {
   "cell_type": "code",
   "execution_count": 24,
   "id": "6702d2b0",
   "metadata": {},
   "outputs": [
    {
     "data": {
      "text/plain": [
       "array([5.3774619 , 2.81453498])"
      ]
     },
     "execution_count": 24,
     "metadata": {},
     "output_type": "execute_result"
    }
   ],
   "source": [
    "data_coded['type'].unique()"
   ]
  },
  {
   "cell_type": "code",
   "execution_count": 25,
   "id": "51af8184",
   "metadata": {},
   "outputs": [
    {
     "data": {
      "text/plain": [
       "array([4.39620214, 4.90930135, 4.15538361, 4.78524077, 3.96298515,\n",
       "       4.44028374, 4.18190954, 4.61209125, 5.11869215, 4.53633001,\n",
       "       4.56126995, 4.73824287, 4.45284526, 4.4577953 , 4.16867301,\n",
       "       4.87923999, 4.89301342, 4.31520906, 5.28244075, 3.06856425,\n",
       "       4.9728682 , 4.41526039, 5.0677924 , 4.0972025 ])"
      ]
     },
     "execution_count": 25,
     "metadata": {},
     "output_type": "execute_result"
    }
   ],
   "source": [
    "data_coded['city'].unique()"
   ]
  },
  {
   "cell_type": "code",
   "execution_count": 31,
   "id": "572bfe5c",
   "metadata": {},
   "outputs": [],
   "source": [
    "#закодировать лейблами категории и конкатенировать\n",
    "le = LabelEncoder()\n",
    "category_le = le.fit_transform(data_code['category'])"
   ]
  },
  {
   "cell_type": "code",
   "execution_count": 50,
   "id": "9582ba4d",
   "metadata": {},
   "outputs": [
    {
     "data": {
      "text/plain": [
       "array([0, 1, 2, 3, 4, 5, 6])"
      ]
     },
     "execution_count": 50,
     "metadata": {},
     "output_type": "execute_result"
    }
   ],
   "source": [
    "np.unique(category_le)"
   ]
  },
  {
   "cell_type": "code",
   "execution_count": 33,
   "id": "ebfca590",
   "metadata": {},
   "outputs": [],
   "source": [
    "#преобразуем полученный массив в колонку\n",
    "data_tempor = np.array(category_le)\n",
    "data_le = pd.DataFrame(data_tempor, columns=['category_le'])"
   ]
  },
  {
   "cell_type": "code",
   "execution_count": 55,
   "id": "fbdf00fb",
   "metadata": {},
   "outputs": [],
   "source": [
    "#объединяем колонки оригинальной таблицы с кодированными колонками \n",
    "data_result = pd.concat([data_le['category_le'], data_code.iloc[:, 1:4], data_coded['type'], data_code['price'], data_coded['city'], data_code[['region', 'log_price']]], axis=1)"
   ]
  },
  {
   "cell_type": "code",
   "execution_count": 56,
   "id": "48fc6af1",
   "metadata": {
    "scrolled": true
   },
   "outputs": [
    {
     "data": {
      "text/html": [
       "<div>\n",
       "<style scoped>\n",
       "    .dataframe tbody tr th:only-of-type {\n",
       "        vertical-align: middle;\n",
       "    }\n",
       "\n",
       "    .dataframe tbody tr th {\n",
       "        vertical-align: top;\n",
       "    }\n",
       "\n",
       "    .dataframe thead th {\n",
       "        text-align: right;\n",
       "    }\n",
       "</style>\n",
       "<table border=\"1\" class=\"dataframe\">\n",
       "  <thead>\n",
       "    <tr style=\"text-align: right;\">\n",
       "      <th></th>\n",
       "      <th>category_le</th>\n",
       "      <th>room_count</th>\n",
       "      <th>bathroom_count</th>\n",
       "      <th>size</th>\n",
       "      <th>type</th>\n",
       "      <th>price</th>\n",
       "      <th>city</th>\n",
       "      <th>region</th>\n",
       "      <th>log_price</th>\n",
       "    </tr>\n",
       "  </thead>\n",
       "  <tbody>\n",
       "    <tr>\n",
       "      <th>0</th>\n",
       "      <td>6</td>\n",
       "      <td>-1.0</td>\n",
       "      <td>-1.0</td>\n",
       "      <td>-1.0</td>\n",
       "      <td>5.377462</td>\n",
       "      <td>100000.0</td>\n",
       "      <td>4.396202</td>\n",
       "      <td>Raoued</td>\n",
       "      <td>5.000000</td>\n",
       "    </tr>\n",
       "    <tr>\n",
       "      <th>1</th>\n",
       "      <td>6</td>\n",
       "      <td>-1.0</td>\n",
       "      <td>-1.0</td>\n",
       "      <td>-1.0</td>\n",
       "      <td>5.377462</td>\n",
       "      <td>316000.0</td>\n",
       "      <td>4.396202</td>\n",
       "      <td>Autres villes</td>\n",
       "      <td>5.499687</td>\n",
       "    </tr>\n",
       "    <tr>\n",
       "      <th>2</th>\n",
       "      <td>0</td>\n",
       "      <td>2.0</td>\n",
       "      <td>1.0</td>\n",
       "      <td>80.0</td>\n",
       "      <td>2.814535</td>\n",
       "      <td>380.0</td>\n",
       "      <td>4.396202</td>\n",
       "      <td>Autres villes</td>\n",
       "      <td>2.579784</td>\n",
       "    </tr>\n",
       "    <tr>\n",
       "      <th>3</th>\n",
       "      <td>3</td>\n",
       "      <td>1.0</td>\n",
       "      <td>1.0</td>\n",
       "      <td>90.0</td>\n",
       "      <td>2.814535</td>\n",
       "      <td>70.0</td>\n",
       "      <td>4.396202</td>\n",
       "      <td>Autres villes</td>\n",
       "      <td>1.845098</td>\n",
       "    </tr>\n",
       "    <tr>\n",
       "      <th>4</th>\n",
       "      <td>0</td>\n",
       "      <td>2.0</td>\n",
       "      <td>2.0</td>\n",
       "      <td>113.0</td>\n",
       "      <td>5.377462</td>\n",
       "      <td>170000.0</td>\n",
       "      <td>4.396202</td>\n",
       "      <td>Ariana Ville</td>\n",
       "      <td>5.230449</td>\n",
       "    </tr>\n",
       "    <tr>\n",
       "      <th>5</th>\n",
       "      <td>3</td>\n",
       "      <td>1.0</td>\n",
       "      <td>1.0</td>\n",
       "      <td>70.0</td>\n",
       "      <td>2.814535</td>\n",
       "      <td>80.0</td>\n",
       "      <td>4.396202</td>\n",
       "      <td>Autres villes</td>\n",
       "      <td>1.903090</td>\n",
       "    </tr>\n",
       "    <tr>\n",
       "      <th>6</th>\n",
       "      <td>0</td>\n",
       "      <td>2.0</td>\n",
       "      <td>1.0</td>\n",
       "      <td>100.0</td>\n",
       "      <td>2.814535</td>\n",
       "      <td>670.0</td>\n",
       "      <td>4.396202</td>\n",
       "      <td>Borj Louzir</td>\n",
       "      <td>2.826075</td>\n",
       "    </tr>\n",
       "    <tr>\n",
       "      <th>7</th>\n",
       "      <td>4</td>\n",
       "      <td>2.0</td>\n",
       "      <td>1.0</td>\n",
       "      <td>20.0</td>\n",
       "      <td>2.814535</td>\n",
       "      <td>650.0</td>\n",
       "      <td>4.396202</td>\n",
       "      <td>Borj Louzir</td>\n",
       "      <td>2.812913</td>\n",
       "    </tr>\n",
       "    <tr>\n",
       "      <th>8</th>\n",
       "      <td>6</td>\n",
       "      <td>-1.0</td>\n",
       "      <td>-1.0</td>\n",
       "      <td>-1.0</td>\n",
       "      <td>5.377462</td>\n",
       "      <td>180000.0</td>\n",
       "      <td>4.396202</td>\n",
       "      <td>Autres villes</td>\n",
       "      <td>5.255273</td>\n",
       "    </tr>\n",
       "    <tr>\n",
       "      <th>9</th>\n",
       "      <td>4</td>\n",
       "      <td>1.0</td>\n",
       "      <td>1.0</td>\n",
       "      <td>40.0</td>\n",
       "      <td>2.814535</td>\n",
       "      <td>450.0</td>\n",
       "      <td>4.396202</td>\n",
       "      <td>Ariana Ville</td>\n",
       "      <td>2.653213</td>\n",
       "    </tr>\n",
       "  </tbody>\n",
       "</table>\n",
       "</div>"
      ],
      "text/plain": [
       "   category_le  room_count  bathroom_count   size      type     price  \\\n",
       "0            6        -1.0            -1.0   -1.0  5.377462  100000.0   \n",
       "1            6        -1.0            -1.0   -1.0  5.377462  316000.0   \n",
       "2            0         2.0             1.0   80.0  2.814535     380.0   \n",
       "3            3         1.0             1.0   90.0  2.814535      70.0   \n",
       "4            0         2.0             2.0  113.0  5.377462  170000.0   \n",
       "5            3         1.0             1.0   70.0  2.814535      80.0   \n",
       "6            0         2.0             1.0  100.0  2.814535     670.0   \n",
       "7            4         2.0             1.0   20.0  2.814535     650.0   \n",
       "8            6        -1.0            -1.0   -1.0  5.377462  180000.0   \n",
       "9            4         1.0             1.0   40.0  2.814535     450.0   \n",
       "\n",
       "       city         region  log_price  \n",
       "0  4.396202         Raoued   5.000000  \n",
       "1  4.396202  Autres villes   5.499687  \n",
       "2  4.396202  Autres villes   2.579784  \n",
       "3  4.396202  Autres villes   1.845098  \n",
       "4  4.396202   Ariana Ville   5.230449  \n",
       "5  4.396202  Autres villes   1.903090  \n",
       "6  4.396202    Borj Louzir   2.826075  \n",
       "7  4.396202    Borj Louzir   2.812913  \n",
       "8  4.396202  Autres villes   5.255273  \n",
       "9  4.396202   Ariana Ville   2.653213  "
      ]
     },
     "execution_count": 56,
     "metadata": {},
     "output_type": "execute_result"
    }
   ],
   "source": [
    "#итоговая таблица с кодированными категориальными признаками.\n",
    "data_result.head(10)"
   ]
  },
  {
   "cell_type": "markdown",
   "id": "6cc5ca34",
   "metadata": {},
   "source": [
    "## Нормализация числовых признаков:"
   ]
  },
  {
   "cell_type": "code",
   "execution_count": 38,
   "id": "a1e007c7",
   "metadata": {},
   "outputs": [
    {
     "data": {
      "image/png": "[encoded data removed]",
      "text/plain": [
       "<Figure size 1440x1440 with 16 Axes>"
      ]
     },
     "metadata": {},
     "output_type": "display_data"
    }
   ],
   "source": [
    "#нормализуем признак из предыдущего датасета\n",
    "skip.hist(figsize=(20,20))\n",
    "plt.show()"
   ]
  },
  {
   "cell_type": "code",
   "execution_count": 45,
   "id": "3357ec55",
   "metadata": {},
   "outputs": [
    {
     "data": {
      "image/png": "[encoded data removed]",
      "text/plain": [
       "<Figure size 432x288 with 1 Axes>"
      ]
     },
     "metadata": {},
     "output_type": "display_data"
    }
   ],
   "source": [
    "stats.probplot(skip['Korean won (KRW)'], dist=\"norm\", plot = plt)\n",
    "plt.show()"
   ]
  },
  {
   "cell_type": "code",
   "execution_count": 57,
   "id": "0b1e621e",
   "metadata": {
    "scrolled": false
   },
   "outputs": [
    {
     "name": "stdout",
     "output_type": "stream",
     "text": [
      "Оптимальное значение λ = -0.5002434258851536\n"
     ]
    },
    {
     "data": {
      "image/png": "[encoded data removed]",
      "text/plain": [
       "<Figure size 432x288 with 1 Axes>"
      ]
     },
     "metadata": {},
     "output_type": "display_data"
    }
   ],
   "source": [
    "#применяем преобразование Бокса-Кокса.\n",
    "skip['Korean won (KRW)_bxcx'], param = stats.boxcox(skip['Korean won (KRW)']) \n",
    "print('Оптимальное значение λ = {}'.format(param))\n",
    "\n",
    "stats.probplot(skip['Korean won (KRW)'], dist=\"norm\", plot = plt)\n",
    "plt.show()"
   ]
  },
  {
   "cell_type": "markdown",
   "id": "07ed7ee9",
   "metadata": {},
   "source": [
    "Результат, в целом, плохой, но учитывая степень отклонения исходного распределения от нормальности, ситуация улучшилась."
   ]
  },
  {
   "cell_type": "code",
   "execution_count": 50,
   "id": "a6ced19a",
   "metadata": {},
   "outputs": [
    {
     "data": {
      "image/png": "[encoded data removed]",
      "text/plain": [
       "<Figure size 432x288 with 1 Axes>"
      ]
     },
     "metadata": {},
     "output_type": "display_data"
    }
   ],
   "source": [
    "stats.probplot(skip['Swiss franc (CHF)'], dist=\"norm\", plot = plt)\n",
    "plt.show()"
   ]
  },
  {
   "cell_type": "code",
   "execution_count": 53,
   "id": "00043b4b",
   "metadata": {},
   "outputs": [
    {
     "data": {
      "image/png": "[encoded data removed]",
      "text/plain": [
       "<Figure size 432x288 with 1 Axes>"
      ]
     },
     "metadata": {},
     "output_type": "display_data"
    }
   ],
   "source": [
    "# применяем логарифмическое преобразование\n",
    "#получаем достаточно неплохой результат\n",
    "skip['Swiss franc (CHF)_log'] = np.log(skip['Swiss franc (CHF)'])\n",
    "\n",
    "stats.probplot(skip['Swiss franc (CHF)_log'], dist=\"norm\", plot = plt)\n",
    "plt.show()"
   ]
  },
  {
   "cell_type": "code",
   "execution_count": null,
   "id": "47507ff8",
   "metadata": {},
   "outputs": [],
   "source": []
  }
 ],
 "metadata": {
  "kernelspec": {
   "display_name": "Python 3 (ipykernel)",
   "language": "python",
   "name": "python3"
  },
  "language_info": {
   "codemirror_mode": {
    "name": "ipython",
    "version": 3
   },
   "file_extension": ".py",
   "mimetype": "text/x-python",
   "name": "python",
   "nbconvert_exporter": "python",
   "pygments_lexer": "ipython3",
   "version": "3.10.0"
  }
 },
 "nbformat": 4,
 "nbformat_minor": 5
}
